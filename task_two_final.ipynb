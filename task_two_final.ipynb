{
 "cells": [
  {
   "cell_type": "code",
   "execution_count": 1,
   "id": "7269bb2d-e10d-46a0-abe8-9de2ee6c0e70",
   "metadata": {},
   "outputs": [],
   "source": [
    "import copy"
   ]
  },
  {
   "cell_type": "code",
   "execution_count": 2,
   "id": "2d6573d3-f86a-41ae-9c2b-4e0257711054",
   "metadata": {},
   "outputs": [],
   "source": [
    "def search_all_pairs():\n",
    "    inner_search_list_pairs = [(a,b) for a in range(2, 100) for b in range (a, 100)]\n",
    "\n",
    "    return inner_search_list_pairs"
   ]
  },
  {
   "cell_type": "code",
   "execution_count": 3,
   "id": "8ca238b6-1877-4fab-9821-858a08ac0fb5",
   "metadata": {},
   "outputs": [],
   "source": [
    "def first_condition(outer_list_pairs):\n",
    "    inner_list_pairs = {}\n",
    "    for a, b in outer_list_pairs:\n",
    "        value = a * b\n",
    "        if value not in inner_list_pairs:\n",
    "            inner_list_pairs[value] = []\n",
    "        inner_list_pairs[value].append((a, b))\n",
    "\n",
    "    inner_prod_correct_pairs = {value: pairs for value, pairs in inner_list_pairs.items() if len(pairs) > 1}\n",
    "\n",
    "    return inner_prod_correct_pairs"
   ]
  },
  {
   "cell_type": "code",
   "execution_count": 4,
   "id": "d65ec2f1-fca3-4a47-80a7-962690836ae1",
   "metadata": {},
   "outputs": [],
   "source": [
    "def second_condition(outer_list_pairs):\n",
    "    number_one = 0\n",
    "    number_two = 0\n",
    "    inner_list_pairs = copy.deepcopy(outer_list_pairs)\n",
    "\n",
    "    for key_dict, value_dict in outer_list_pairs.items():\n",
    "        for value_list in value_dict:\n",
    "            for value_range in range(len(value_list)):\n",
    "                if value_range == 0:\n",
    "                    number_one = value_list[value_range]\n",
    "                else:\n",
    "                    number_two = value_list[value_range]\n",
    "            value_bool = search_inner_sum(number_one, number_two, outer_list_pairs)\n",
    "            inner_list_pairs[key_dict].append((value_bool, value_bool))\n",
    "\n",
    "    return inner_list_pairs"
   ]
  },
  {
   "cell_type": "code",
   "execution_count": 5,
   "id": "e169d2f9-fc70-4f51-aacd-be8066d45381",
   "metadata": {},
   "outputs": [],
   "source": [
    "def search_inner_sum(number_one, number_two, outer_list_pairs):\n",
    "\n",
    "    bool_list = []\n",
    "    bool_loop = True\n",
    "    static_number_one = number_one\n",
    "    static_number_two = number_two\n",
    "\n",
    "    while bool_loop:\n",
    "        if number_one == 1 or number_two == 1 :\n",
    "            break\n",
    "\n",
    "        prod = number_one * number_two\n",
    "\n",
    "        if prod in outer_list_pairs:\n",
    "            bool_list.append(1)\n",
    "        else:\n",
    "            bool_list.append(0)\n",
    "            break\n",
    "\n",
    "        if static_number_one == number_two:\n",
    "            if static_number_one < static_number_two:\n",
    "                number_one += 1\n",
    "                number_two -= 1\n",
    "            else:\n",
    "                number_one -= 1\n",
    "                number_two += 1\n",
    "            if number_one + number_two == static_number_one + static_number_two:\n",
    "                continue\n",
    "            bool_loop = False\n",
    "\n",
    "        if static_number_one < static_number_two:\n",
    "            number_one += 1\n",
    "            number_two -= 1\n",
    "        else:\n",
    "            number_one -= 1\n",
    "            number_two += 1\n",
    "    #print(bool_list)\n",
    "    return 0 if 0 in bool_list else 1"
   ]
  },
  {
   "cell_type": "code",
   "execution_count": 6,
   "id": "e0b2cb77-d3a2-47a2-9c55-b3ee3beddc4c",
   "metadata": {},
   "outputs": [],
   "source": [
    "def search_numbers(pot_num_, sum_num_, variable_of_first_condition_):\n",
    "    number_one = 0\n",
    "    number_two = 0\n",
    "    value_sum = []\n",
    "\n",
    "    if pot_num_ not in variable_of_first_condition_.keys():\n",
    "        return 0\n",
    "\n",
    "    for key_dict, value_dict in variable_of_first_condition_.items():\n",
    "        if key_dict == pot_num_:\n",
    "            for value_list in value_dict:\n",
    "                for value_range in range(len(value_list)):\n",
    "                    if value_range == 0:\n",
    "                        number_one = value_list[value_range]\n",
    "                    else:\n",
    "                        number_two = value_list[value_range]\n",
    "                value_sum.append(number_one + number_two)\n",
    "            if sum_num_ in value_sum:\n",
    "                #print(value_sum)\n",
    "                for value_list in value_dict:\n",
    "                    for value_range in range(len(value_list)):\n",
    "                        if value_range == 0:\n",
    "                            number_one = value_list[value_range]\n",
    "                        else:\n",
    "                            number_two = value_list[value_range]\n",
    "                    value_bool = search_inner_sum(number_one, number_two, variable_of_first_condition_)\n",
    "                    #print(value_bool)\n",
    "                    if sum_num_ == number_one + number_two and value_bool == 0:\n",
    "                        return 0\n",
    "\n",
    "                    if value_bool == 1 and number_one + number_two == sum_num_:\n",
    "                        return number_one, number_two\n",
    "\n",
    "            else:\n",
    "                print(value_sum)\n",
    "                return 0"
   ]
  },
  {
   "cell_type": "code",
   "execution_count": 7,
   "id": "9e048bda-c0b1-4215-873d-87da32965003",
   "metadata": {},
   "outputs": [
    {
     "name": "stdout",
     "output_type": "stream",
     "text": [
      "\n",
      "Pot is 52 \n",
      "Sum is 17 \n",
      "\n",
      " Looking for a match  (4, 13)\n"
     ]
    }
   ],
   "source": [
    "pot_num = 52\n",
    "sum_num = 17\n",
    "\n",
    "search_list_pairs = search_all_pairs()\n",
    "#print(search_list_pairs)\n",
    "\n",
    "variable_of_first_condition = first_condition(search_list_pairs)\n",
    "#print(variable_of_first_condition)\n",
    "\n",
    "search_num = search_numbers(pot_num, sum_num, variable_of_first_condition)\n",
    "if search_num == 0:\n",
    "    print(\"\\n\", \"There is no pair for this product and sum\")\n",
    "else:\n",
    "    print(\"\\nPot is\", pot_num, \"\\nSum is\", sum_num, \"\\n\"*2,\"Looking for a match \", search_num)"
   ]
  },
  {
   "cell_type": "code",
   "execution_count": null,
   "id": "7bd5d695-339d-4dd6-b8b6-4e7592742670",
   "metadata": {},
   "outputs": [],
   "source": []
  }
 ],
 "metadata": {
  "kernelspec": {
   "display_name": "Python 3 (ipykernel)",
   "language": "python",
   "name": "python3"
  },
  "language_info": {
   "codemirror_mode": {
    "name": "ipython",
    "version": 3
   },
   "file_extension": ".py",
   "mimetype": "text/x-python",
   "name": "python",
   "nbconvert_exporter": "python",
   "pygments_lexer": "ipython3",
   "version": "3.13.1"
  }
 },
 "nbformat": 4,
 "nbformat_minor": 5
}
