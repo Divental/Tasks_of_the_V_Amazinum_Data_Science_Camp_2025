{
 "cells": [
  {
   "cell_type": "code",
   "execution_count": null,
   "id": "0bcc17a3-4351-45a2-9c95-cd0614414156",
   "metadata": {},
   "outputs": [],
   "source": [
    "\"\"\"\n",
    "There are two whole numbers:\n",
    "1 < a,b <100\n",
    "\n",
    "One scientist (\"Sum\") get provided with sum of mmbers, another (\"Prod\") get provided with product of numbers.\n",
    "Both scientists know that numbers 1 < a,b <100.\n",
    "\n",
    "Determine the numbers being based on the following dialog:\n",
    "\n",
    "Prod: I don't know the numbers;\n",
    "Sum: I know it;\n",
    "Prod: then I know the numbers;\n",
    "Sum: then I know the numbers too.\n",
    "\n",
    "\n",
    "\n",
    "\n",
    " Final list:  [[(3, 4)], [(69, 96)], [(77, 96)], [(78, 98)], [(80, 99)], [(84, 84)], [(84, 88)], [(84, 91)], [(88, 90)]]\n",
    "\n",
    "\n",
    "\n",
    "\n",
    "\"\"\""
   ]
  },
  {
   "cell_type": "code",
   "execution_count": null,
   "id": "9ab5d298-df02-4bf3-8c0d-8da01bcf9f4f",
   "metadata": {},
   "outputs": [],
   "source": [
    "\"\"\"\n",
    "Створюю всі можливі пари множників в діапазоні від 1 < a,b < 100 та повертаю значення\n",
    "\"\"\"\n",
    "def search_for_all_pairs():\n",
    "    search_list_pairs = [(a,b) for a in range(2, 100) for b in range (a, 100)]\n",
    "\n",
    "    return search_list_pairs"
   ]
  },
  {
   "cell_type": "code",
   "execution_count": 13,
   "id": "e63db1c4-a3cb-496a-992c-35e9b14cc3be",
   "metadata": {},
   "outputs": [],
   "source": [
    "\"\"\"\n",
    "Знаходжу всі можливі добутки P=a×b та перевіряю які з них мають більше ніж одну пару (a,b).\n",
    "\"\"\"\n",
    "def first_condition(inner_list_numbers_):\n",
    "    product_pairs = {}\n",
    "    for a, b in inner_list_numbers_:\n",
    "        value = a * b\n",
    "        if value not in product_pairs:\n",
    "            product_pairs[value] = []\n",
    "        product_pairs[value].append((a, b))\n",
    "\n",
    "    possible_prod_correct_pairs = {value: pairs for value, pairs in product_pairs.items() if len(pairs) > 1}\n",
    "\n",
    "    return possible_prod_correct_pairs"
   ]
  },
  {
   "cell_type": "code",
   "execution_count": 14,
   "id": "c71fc624-df37-4466-8682-0fbc637c3c85",
   "metadata": {},
   "outputs": [],
   "source": [
    "\"\"\"\n",
    "Знаходжу всі можливі суми S=a+b і залишу лише ті, які відповідають хоча б одному неоднозначному добутку.\n",
    "\"\"\"\n",
    "def second_condition(inner_list_numbers_, inner_list_numbers_two_):\n",
    "    sum_pairs = {}\n",
    "    for a, b in inner_list_numbers_:\n",
    "        if a * b in inner_list_numbers_two_:\n",
    "            if a + b not in sum_pairs:\n",
    "                sum_pairs[a + b] = []\n",
    "            sum_pairs[a + b].append((a, b))\n",
    "\n",
    "    return sum_pairs"
   ]
  },
  {
   "cell_type": "code",
   "execution_count": 15,
   "id": "fcdc81f4-fb45-4c17-9477-dc755b0cee42",
   "metadata": {},
   "outputs": [],
   "source": [
    "\"\"\"\n",
    "Залишу лише ті пари, де після того, як \"Sum\" визначив числа, \"Prod\" теж зможе їх дізнатися.\n",
    "\"\"\"\n",
    "def third_condition(sum_pairs):\n",
    "    possible_sum_correct_pairs = {value: pairs for value, pairs in sum_pairs.items() if len(pairs) == 1}\n",
    "\n",
    "    return possible_sum_correct_pairs"
   ]
  },
  {
   "cell_type": "code",
   "execution_count": 5,
   "id": "74889a77-1dd6-4fa0-a212-aafd6c194109",
   "metadata": {},
   "outputs": [],
   "source": [
    "\"\"\"\n",
    "Виводжу всі можливі пари (a,b), які відповідають умовам задачі.\n",
    "\"\"\"\n",
    "def fourth_condition(sum_pairs, possible_sum):\n",
    "    final_numbers_pairs = [pairs for value, pairs in sum_pairs.items() if value in possible_sum]\n",
    "\n",
    "    return final_numbers_pairs"
   ]
  },
  {
   "cell_type": "code",
   "execution_count": 8,
   "id": "c8793633-42e4-4504-ba8a-80355389e71e",
   "metadata": {},
   "outputs": [],
   "source": [
    "inner_list_numbers= search_for_all_pairs()"
   ]
  },
  {
   "cell_type": "code",
   "execution_count": 9,
   "id": "e30859c6-828c-46ee-8ea0-4ded14e27be9",
   "metadata": {},
   "outputs": [],
   "source": [
    "inner_list_numbers_one = first_condition(inner_list_numbers)"
   ]
  },
  {
   "cell_type": "code",
   "execution_count": null,
   "id": "83df420e-9598-4aaa-9910-b6b28a2cb643",
   "metadata": {},
   "outputs": [],
   "source": [
    "inner_list_numbers_two = second_condition(inner_list_numbers, inner_list_numbers_one)"
   ]
  },
  {
   "cell_type": "code",
   "execution_count": 12,
   "id": "601e6a7c-5a26-450d-94c1-43b7f00c1419",
   "metadata": {},
   "outputs": [],
   "source": [
    "inner_list_numbers_three = third_condition(inner_list_numbers_two)"
   ]
  },
  {
   "cell_type": "code",
   "execution_count": 11,
   "id": "298f4691-8bcc-42f7-bee5-b728987e2c68",
   "metadata": {},
   "outputs": [],
   "source": [
    "inner_list_numbers_four = fourth_condition(inner_list_numbers_two, inner_list_numbers_three)"
   ]
  },
  {
   "cell_type": "code",
   "execution_count": 10,
   "id": "86edadb8-3cef-4038-ad27-b29b33ee1267",
   "metadata": {},
   "outputs": [
    {
     "name": "stdout",
     "output_type": "stream",
     "text": [
      "\n",
      " Final list:  [[(3, 4)], [(69, 96)], [(77, 96)], [(78, 98)], [(80, 99)], [(84, 84)], [(84, 88)], [(84, 91)], [(88, 90)]]\n"
     ]
    }
   ],
   "source": [
    "print(\"\\n\", \"Final list: \", inner_list_numbers_four)\n"
   ]
  },
  {
   "cell_type": "code",
   "execution_count": 16,
   "id": "941a424b-d41d-4c32-8f18-2e8696e88958",
   "metadata": {},
   "outputs": [
    {
     "name": "stdout",
     "output_type": "stream",
     "text": [
      "Initialized empty Git repository in D:/VAmazinumCamp2025/jupyter/.git/\n"
     ]
    }
   ],
   "source": [
    "!git init"
   ]
  },
  {
   "cell_type": "code",
   "execution_count": null,
   "id": "0aea43b9-6e9d-4b93-8a96-1d1e1042857a",
   "metadata": {},
   "outputs": [],
   "source": [
    "!git add ."
   ]
  }
 ],
 "metadata": {
  "kernelspec": {
   "display_name": "Python 3 (ipykernel)",
   "language": "python",
   "name": "python3"
  },
  "language_info": {
   "codemirror_mode": {
    "name": "ipython",
    "version": 3
   },
   "file_extension": ".py",
   "mimetype": "text/x-python",
   "name": "python",
   "nbconvert_exporter": "python",
   "pygments_lexer": "ipython3",
   "version": "3.13.1"
  }
 },
 "nbformat": 4,
 "nbformat_minor": 5
}
