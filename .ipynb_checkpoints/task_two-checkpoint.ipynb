{
 "cells": [
  {
   "cell_type": "code",
   "execution_count": 2,
   "id": "13fb9a89-f55b-4eea-b380-cd8344fc13fd",
   "metadata": {},
   "outputs": [
    {
     "name": "stdout",
     "output_type": "stream",
     "text": [
      "Collecting matplotlib\n",
      "  Downloading matplotlib-3.10.1-cp313-cp313-win_amd64.whl.metadata (11 kB)\n",
      "Collecting contourpy>=1.0.1 (from matplotlib)\n",
      "  Downloading contourpy-1.3.1-cp313-cp313-win_amd64.whl.metadata (5.4 kB)\n",
      "Collecting cycler>=0.10 (from matplotlib)\n",
      "  Downloading cycler-0.12.1-py3-none-any.whl.metadata (3.8 kB)\n",
      "Collecting fonttools>=4.22.0 (from matplotlib)\n",
      "  Downloading fonttools-4.56.0-cp313-cp313-win_amd64.whl.metadata (103 kB)\n",
      "Collecting kiwisolver>=1.3.1 (from matplotlib)\n",
      "  Downloading kiwisolver-1.4.8-cp313-cp313-win_amd64.whl.metadata (6.3 kB)\n",
      "Requirement already satisfied: numpy>=1.23 in d:\\python\\python313\\lib\\site-packages (from matplotlib) (2.2.3)\n",
      "Requirement already satisfied: packaging>=20.0 in d:\\python\\python313\\lib\\site-packages (from matplotlib) (24.2)\n",
      "Collecting pillow>=8 (from matplotlib)\n",
      "  Downloading pillow-11.1.0-cp313-cp313-win_amd64.whl.metadata (9.3 kB)\n",
      "Collecting pyparsing>=2.3.1 (from matplotlib)\n",
      "  Downloading pyparsing-3.2.1-py3-none-any.whl.metadata (5.0 kB)\n",
      "Requirement already satisfied: python-dateutil>=2.7 in d:\\python\\python313\\lib\\site-packages (from matplotlib) (2.9.0.post0)\n",
      "Requirement already satisfied: six>=1.5 in d:\\python\\python313\\lib\\site-packages (from python-dateutil>=2.7->matplotlib) (1.17.0)\n",
      "Downloading matplotlib-3.10.1-cp313-cp313-win_amd64.whl (8.1 MB)\n",
      "   ---------------------------------------- 0.0/8.1 MB ? eta -:--:--\n",
      "   ---------------------------------------  7.9/8.1 MB 48.4 MB/s eta 0:00:01\n",
      "   ---------------------------------------- 8.1/8.1 MB 37.9 MB/s eta 0:00:00\n",
      "Downloading contourpy-1.3.1-cp313-cp313-win_amd64.whl (220 kB)\n",
      "Downloading cycler-0.12.1-py3-none-any.whl (8.3 kB)\n",
      "Downloading fonttools-4.56.0-cp313-cp313-win_amd64.whl (2.2 MB)\n",
      "   ---------------------------------------- 0.0/2.2 MB ? eta -:--:--\n",
      "   ---------------------------------------- 2.2/2.2 MB 58.3 MB/s eta 0:00:00\n",
      "Downloading kiwisolver-1.4.8-cp313-cp313-win_amd64.whl (71 kB)\n",
      "Downloading pillow-11.1.0-cp313-cp313-win_amd64.whl (2.6 MB)\n",
      "   ---------------------------------------- 0.0/2.6 MB ? eta -:--:--\n",
      "   ---------------------------------------- 2.6/2.6 MB 12.4 MB/s eta 0:00:00\n",
      "Downloading pyparsing-3.2.1-py3-none-any.whl (107 kB)\n",
      "Installing collected packages: pyparsing, pillow, kiwisolver, fonttools, cycler, contourpy, matplotlib\n",
      "Successfully installed contourpy-1.3.1 cycler-0.12.1 fonttools-4.56.0 kiwisolver-1.4.8 matplotlib-3.10.1 pillow-11.1.0 pyparsing-3.2.1\n"
     ]
    },
    {
     "name": "stderr",
     "output_type": "stream",
     "text": [
      "\n",
      "[notice] A new release of pip is available: 24.3.1 -> 25.0.1\n",
      "[notice] To update, run: python.exe -m pip install --upgrade pip\n"
     ]
    }
   ],
   "source": [
    "!pip install matplotlib"
   ]
  },
  {
   "cell_type": "code",
   "execution_count": 3,
   "id": "dd3174d9-f022-432a-a3c2-5596ff809f4e",
   "metadata": {},
   "outputs": [],
   "source": [
    "from random import randint\n",
    "import matplotlib.pyplot as plt"
   ]
  },
  {
   "cell_type": "code",
   "execution_count": 4,
   "id": "9bd3aab3-cfcb-46c5-842a-0a24fe857529",
   "metadata": {},
   "outputs": [],
   "source": [
    "def init_random_list():\n",
    "    random_list_ = []\n",
    "    for i in range(20):\n",
    "        if len(random_list_) < 2:\n",
    "            random_list_.append(randint(0, 100))\n",
    "            continue\n",
    "        else:\n",
    "            random_number = randint(0, 100)\n",
    "            for j in range(len(random_list_)):\n",
    "                iter_state = True\n",
    "                number_random_list_ = random_list_[j]\n",
    "                while iter_state:\n",
    "                    if number_random_list_ == random_number:\n",
    "                        random_number = randint(0, 100)\n",
    "                        iter_state = True\n",
    "                    else:\n",
    "                        iter_state = False\n",
    "\n",
    "            random_list_.append(random_number)\n",
    "    return random_list_"
   ]
  },
  {
   "cell_type": "code",
   "execution_count": 5,
   "id": "d21e69c8-a9ba-4683-ada5-f255a1ff1717",
   "metadata": {},
   "outputs": [],
   "source": [
    "def init_iter_list():\n",
    "    iter_list_ = []\n",
    "    for b in range(20):\n",
    "        iter_list_.append(b)\n",
    "    return iter_list_"
   ]
  },
  {
   "cell_type": "code",
   "execution_count": 6,
   "id": "56aef633-2979-4841-8343-dbc4fb900e5e",
   "metadata": {},
   "outputs": [],
   "source": [
    "def visualisation_first(x,y, max_number_two, final_list):\n",
    "    plt.plot(x, y, color='blue', label='Основна крива')\n",
    "    plt.axhline(y=max_number_two, color='green', linestyle='-.', linewidth=1)\n",
    "    plt.axhline(y=min(final_list), color='green', linestyle='-.', linewidth=1)"
   ]
  },
  {
   "cell_type": "code",
   "execution_count": 7,
   "id": "fa20d5ca-7d26-499a-9660-69ab29c7ed2a",
   "metadata": {},
   "outputs": [],
   "source": [
    "def visualisation_second(x,y, max_number_one, final_list):\n",
    "    plt.plot(x, y, color='blue', label='Основна крива')\n",
    "    plt.axhline(y=max_number_one, color='green', linestyle='-.', linewidth=1)\n",
    "    plt.axhline(y=min(final_list), color='green', linestyle='-.', linewidth=1)"
   ]
  },
  {
   "cell_type": "code",
   "execution_count": 8,
   "id": "f26b4320-cc55-4361-87d3-224e39f21846",
   "metadata": {},
   "outputs": [],
   "source": [
    "def draw_diagram(x, y, index_number_one, index_number_two):\n",
    "    if index_number_one < index_number_two:\n",
    "        x_range = [x[i] for i in range(len(x)) if index_number_one <= x[i] <= index_number_two]\n",
    "        y_range = [y[i] for i in range(len(y)) if index_number_one <= x[i] <= index_number_two]\n",
    "    else:\n",
    "        x_range = [x[i] for i in range(len(x)) if index_number_two <= x[i] <= index_number_one]\n",
    "        y_range = [y[i] for i in range(len(y)) if index_number_two <= x[i] <= index_number_one]\n",
    "\n",
    "    print(\"\\n----------------------------------------------------------------\\nx_range:\", x_range)\n",
    "    print(\"y_range:\", y_range, \"\\n----------------------------------------------------------------\")\n",
    "    plt.plot(x_range, y_range, color='red', linewidth=3, label='Крива діапазону')\n",
    "    plt.plot(x, y)\n",
    "    plt.xlabel(\"X-axis\")\n",
    "    plt.ylabel(\"Y-axis\")\n",
    "    plt.title(\"Simple Line Plot\")\n",
    "    plt.legend()\n",
    "    plt.show()"
   ]
  },
  {
   "cell_type": "code",
   "execution_count": 9,
   "id": "20103d3b-c25b-4312-a422-b03aa98005c1",
   "metadata": {},
   "outputs": [],
   "source": [
    "def clear_write_number_one(x, y, max_number_one, final_list):\n",
    "    try:\n",
    "        deepest_lake = max_number_one - min(final_list)\n",
    "    except ValueError as verr:\n",
    "        print(verr)\n",
    "    visualisation_second(x, y, max_number_one, final_list)\n",
    "    return deepest_lake"
   ]
  },
  {
   "cell_type": "code",
   "execution_count": 10,
   "id": "e7c816d2-b5bd-4cf2-b8b9-166f808fb298",
   "metadata": {},
   "outputs": [],
   "source": [
    "def clear_write_number_two(x, y, max_number_two, final_list):\n",
    "    try:\n",
    "        deepest_lake = max_number_two - min(final_list)\n",
    "    except ValueError as verr:\n",
    "        print(verr)\n",
    "    visualisation_first(x,y,max_number_two, final_list)\n",
    "    return deepest_lake\n"
   ]
  },
  {
   "cell_type": "code",
   "execution_count": 11,
   "id": "5058814a-85e6-4b46-89b2-504bb84329ab",
   "metadata": {},
   "outputs": [],
   "source": [
    "def init_deepest_lake():\n",
    "    transitional_list = random_list[:]\n",
    "    max_number_one = max(transitional_list)\n",
    "    index_number_one = transitional_list.index(max_number_one)\n",
    "    print(\"Transitional_list: \", transitional_list)\n",
    "    print(\"Max_number_one: \", max_number_one)\n",
    "    print(\"Index_number_one: \", index_number_one, \"\\n----------------------------------------------------------------\")\n",
    "    del transitional_list[index_number_one]\n",
    "    transitional_list.insert(index_number_one, 0)\n",
    "    print(\"Transitional_list: \", transitional_list, \"\\n----------------------------------------------------------------\")\n",
    "\n",
    "    max_number_two = max(transitional_list)\n",
    "    index_number_two = transitional_list.index(max_number_two)\n",
    "    print(\"Transitional_list: \", transitional_list)\n",
    "    print(\"Max_number_two: \", max_number_two)\n",
    "    print(\"Index_number_two: \", index_number_two, \"\\n----------------------------------------------------------------\")\n",
    "    del transitional_list[index_number_two]\n",
    "    transitional_list.insert(index_number_two, 0)\n",
    "    print(\"Transitional_list: \", transitional_list, \"\\n----------------------------------------------------------------\")\n",
    "\n",
    "    x = iter_list\n",
    "    y = random_list\n",
    "\n",
    "    final_list = []\n",
    "    deepest_lake = 0\n",
    "    if index_number_one > index_number_two:\n",
    "        final_list= random_list[index_number_two:index_number_one+1]\n",
    "        if max_number_one > max_number_two:\n",
    "            deepest_lake = clear_write_number_two(x, y, max_number_two, final_list)\n",
    "        else:\n",
    "            deepest_lake = clear_write_number_one(x, y, max_number_one, final_list)\n",
    "    else:\n",
    "        if max_number_one > max_number_two:\n",
    "            final_list = random_list[index_number_one:index_number_two+1]\n",
    "            deepest_lake = clear_write_number_two(x, y, max_number_two, final_list)\n",
    "        else:\n",
    "            deepest_lake = clear_write_number_one(x, y, max_number_one, final_list)\n",
    "\n",
    "    print(\"The final list is:\", final_list)\n",
    "    print(\"The deepest lake has:\", deepest_lake)\n",
    "\n",
    "    draw_diagram(x, y, index_number_one, index_number_two)"
   ]
  },
  {
   "cell_type": "code",
   "execution_count": 17,
   "id": "21e700bb-d800-4bde-897b-eafc7c26099d",
   "metadata": {},
   "outputs": [
    {
     "name": "stdout",
     "output_type": "stream",
     "text": [
      "Transitional_list:  [27, 82, 62, 54, 36, 44, 33, 22, 52, 37, 5, 85, 9, 19, 97, 21, 24, 98, 92, 64]\n",
      "Max_number_one:  98\n",
      "Index_number_one:  17 \n",
      "----------------------------------------------------------------\n",
      "Transitional_list:  [27, 82, 62, 54, 36, 44, 33, 22, 52, 37, 5, 85, 9, 19, 97, 21, 24, 0, 92, 64] \n",
      "----------------------------------------------------------------\n",
      "Transitional_list:  [27, 82, 62, 54, 36, 44, 33, 22, 52, 37, 5, 85, 9, 19, 97, 21, 24, 0, 92, 64]\n",
      "Max_number_two:  97\n",
      "Index_number_two:  14 \n",
      "----------------------------------------------------------------\n",
      "Transitional_list:  [27, 82, 62, 54, 36, 44, 33, 22, 52, 37, 5, 85, 9, 19, 0, 21, 24, 0, 92, 64] \n",
      "----------------------------------------------------------------\n",
      "The final list is: [97, 21, 24, 98]\n",
      "The deepest lake has: 76\n",
      "\n",
      "----------------------------------------------------------------\n",
      "x_range: [14, 15, 16, 17]\n",
      "y_range: [97, 21, 24, 98] \n",
      "----------------------------------------------------------------\n"
     ]
    },
    {
     "data": {
      "image/png": "[encoded data removed]",
      "text/plain": [
       "<Figure size 640x480 with 1 Axes>"
      ]
     },
     "metadata": {},
     "output_type": "display_data"
    }
   ],
   "source": [
    "random_list = init_random_list()\n",
    "iter_list = init_iter_list()\n",
    "init_deepest_lake()"
   ]
  },
  {
   "cell_type": "code",
   "execution_count": 19,
   "id": "4dbd81c3-4323-4a2d-85ad-59db17fe84bb",
   "metadata": {},
   "outputs": [
    {
     "name": "stdout",
     "output_type": "stream",
     "text": [
      "On branch task_one_jupyter\n",
      "Your branch is up to date with 'origin/task_one_jupyter'.\n",
      "\n",
      "Changes not staged for commit:\n",
      "  (use \"git add <file>...\" to update what will be committed)\n",
      "  (use \"git restore <file>...\" to discard changes in working directory)\n",
      "\tmodified:   task_one.ipynb\n",
      "\n",
      "Untracked files:\n",
      "  (use \"git add <file>...\" to include in what will be committed)\n",
      "\t.ipynb_checkpoints/task_two-checkpoint.ipynb\n",
      "\tlesson_2_part_1_python.ipynb\n",
      "\tlesson_2_part_2_numpy.ipynb\n",
      "\ttask_two.ipynb\n",
      "\n",
      "no changes added to commit (use \"git add\" and/or \"git commit -a\")\n"
     ]
    }
   ],
   "source": [
    "!git status"
   ]
  },
  {
   "cell_type": "code",
   "execution_count": null,
   "id": "12505e5a-e49f-4994-baad-0209336176d5",
   "metadata": {},
   "outputs": [],
   "source": []
  }
 ],
 "metadata": {
  "kernelspec": {
   "display_name": "Python 3 (ipykernel)",
   "language": "python",
   "name": "python3"
  },
  "language_info": {
   "codemirror_mode": {
    "name": "ipython",
    "version": 3
   },
   "file_extension": ".py",
   "mimetype": "text/x-python",
   "name": "python",
   "nbconvert_exporter": "python",
   "pygments_lexer": "ipython3",
   "version": "3.13.1"
  }
 },
 "nbformat": 4,
 "nbformat_minor": 5
}
