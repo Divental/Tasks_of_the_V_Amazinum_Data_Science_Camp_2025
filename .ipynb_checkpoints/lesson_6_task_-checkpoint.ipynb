{
 "cells": [
  {
   "cell_type": "code",
   "execution_count": 1,
   "id": "328d008d-54d6-43fb-b6bf-fc479bf7f6ca",
   "metadata": {},
   "outputs": [],
   "source": [
    "%matplotlib notebook\n",
    "%matplotlib inline\n",
    "import matplotlib.pyplot as plt\n",
    "import pandas as pd \n",
    "import numpy as np \n",
    "from sklearn.model_selection import train_test_split"
   ]
  },
  {
   "cell_type": "code",
   "execution_count": 2,
   "id": "87fbb8f2-306e-4ad4-b9bd-035cb36d05ee",
   "metadata": {},
   "outputs": [],
   "source": [
    "from sklearn.datasets import load_diabetes"
   ]
  },
  {
   "cell_type": "code",
   "execution_count": 3,
   "id": "c78984b2-27a3-4d4c-968b-4ac5a411ac64",
   "metadata": {},
   "outputs": [],
   "source": [
    "def get_X_y(features= None, verbose= False):\n",
    "    X, y = load_diabetes(return_X_y=True)\n",
    "\n",
    "    if features is None:\n",
    "        print ('Selecting all features')\n",
    "        \n",
    "    elif type(features) == int or (type(features) == list and len(features)==1):\n",
    "        print ('Selecting one feature: {}'.format(features))\n",
    "        X= X[:,features].reshape(-1,1) \n",
    "    elif type(features) == list: \n",
    "        print ('Selecting features list: {}'.format(features))\n",
    "        X= X[:,features]\n",
    "    else: \n",
    "        print ('wrong format of parameter \"features\"')\n",
    "        return\n",
    "\n",
    "\n",
    "    X_train, X_test, y_train, y_test=  train_test_split(X, y, random_state=2021)\n",
    "    if verbose:\n",
    "        print ('X_train.shape= ',X_train.shape)\n",
    "        print ('y_train.shape= ',y_train.shape)\n",
    "        print ('X_train [:5] = \\n{}'.format(X_train[:5]))\n",
    "        print ('y_train [:5] = \\n{}'.format(y_train[:5]))\n",
    "    return X_train, X_test, y_train, y_test"
   ]
  },
  {
   "cell_type": "code",
   "execution_count": 4,
   "id": "6e04e0e2-393d-4fd9-b4f1-2e2a0f20ba49",
   "metadata": {},
   "outputs": [
    {
     "name": "stdout",
     "output_type": "stream",
     "text": [
      "Selecting all features\n",
      "X_train.shape=  (331, 10)\n",
      "y_train.shape=  (331,)\n",
      "X_train [:5] = \n",
      "[[-0.06363517 -0.04464164 -0.03315126 -0.03321323  0.00118295  0.02405115\n",
      "  -0.02499266 -0.00259226 -0.02251653 -0.05906719]\n",
      " [ 0.01264814 -0.04464164 -0.02560657 -0.04009893 -0.03046397 -0.04515466\n",
      "   0.0780932  -0.0763945  -0.07213275  0.01134862]\n",
      " [ 0.03807591  0.05068012  0.00888341  0.04252949 -0.04284755 -0.02104223\n",
      "  -0.03971921 -0.00259226 -0.01811369  0.00720652]\n",
      " [-0.07816532  0.05068012  0.07786339  0.05285804  0.07823631  0.0644473\n",
      "   0.02655027 -0.00259226  0.04067283 -0.00936191]\n",
      " [-0.07453279 -0.04464164 -0.0105172  -0.00567042 -0.06623874 -0.0570543\n",
      "  -0.00290283 -0.03949338 -0.04257085 -0.0010777 ]]\n",
      "y_train [:5] = \n",
      "[214.  98. 127. 233. 168.]\n"
     ]
    }
   ],
   "source": [
    "X_train, X_test, y_train, y_test=  get_X_y(verbose= True)"
   ]
  },
  {
   "cell_type": "code",
   "execution_count": 5,
   "id": "f411f441-9608-4124-b56f-563303a6e218",
   "metadata": {},
   "outputs": [],
   "source": [
    "from sklearn.linear_model import Ridge"
   ]
  },
  {
   "cell_type": "code",
   "execution_count": 6,
   "id": "58355f16-3a3f-4c7c-a925-542cd47a0cf8",
   "metadata": {},
   "outputs": [
    {
     "name": "stdout",
     "output_type": "stream",
     "text": [
      "Ridge\n",
      "R2 train score = 0.42274917339301743\n",
      "R2 test score = 0.4342973225973644\n",
      "b: 148.99989270370446, \n",
      "w= [  31.07148535  -67.8120157   284.12144626  158.3077359    25.34329106\n",
      "  -14.63150099 -130.28719404  116.41304414  239.50188481  108.52469397]\n"
     ]
    }
   ],
   "source": [
    "ridge_reg=Ridge()\n",
    "ridge_reg.fit(X_train,y_train)\n",
    "regressor = ridge_reg\n",
    "print ('Ridge')\n",
    "print ('R2 train score =', regressor.score(X_train, y_train))\n",
    "print ('R2 test score =', regressor.score(X_test, y_test))\n",
    "print ('b: {}, \\nw= {}'.format(regressor.intercept_, regressor.coef_)) "
   ]
  },
  {
   "cell_type": "code",
   "execution_count": 7,
   "id": "43a115fe-97ee-47dd-87d4-a1fed54d0398",
   "metadata": {},
   "outputs": [],
   "source": [
    "from sklearn.linear_model import Lasso"
   ]
  },
  {
   "cell_type": "code",
   "execution_count": 8,
   "id": "4027f0bb-cc16-463d-831a-796b921b7b0a",
   "metadata": {},
   "outputs": [
    {
     "name": "stdout",
     "output_type": "stream",
     "text": [
      "Lasso\n",
      "R2 train score = 0.36601908968194896\n",
      "R2 test score = 0.33920924807921515\n",
      "b: 149.48529539341314, \n",
      "w= [  0.          -0.         379.30812187   0.           0.\n",
      "   0.          -0.           0.         317.42349078   0.        ]\n"
     ]
    }
   ],
   "source": [
    "lasso_reg=Lasso()\n",
    "lasso_reg.fit(X_train,y_train)\n",
    "regressor = lasso_reg\n",
    "print ('Lasso')\n",
    "print ('R2 train score =', regressor.score(X_train, y_train))\n",
    "print ('R2 test score =', regressor.score(X_test, y_test))\n",
    "print ('b: {}, \\nw= {}'.format(regressor.intercept_, regressor.coef_)) "
   ]
  },
  {
   "cell_type": "code",
   "execution_count": 9,
   "id": "f737eaf9-40f5-4821-a257-1c0aa02f66e9",
   "metadata": {},
   "outputs": [
    {
     "name": "stdout",
     "output_type": "stream",
     "text": [
      "Selecting all features\n",
      "KNN\n",
      "n_neighbors=1\n",
      "R2 train score = 1.0\n",
      "R2 test score = -0.09095569737227827\n",
      "n_neighbors=2\n",
      "R2 train score = 0.75205211713433\n",
      "R2 test score = 0.17016447278513447\n",
      "n_neighbors=3\n",
      "R2 train score = 0.6758033181412969\n",
      "R2 test score = 0.2381809619257087\n",
      "n_neighbors=4\n",
      "R2 train score = 0.6155525801130263\n",
      "R2 test score = 0.27733360958680453\n",
      "n_neighbors=5\n",
      "R2 train score = 0.5971693804267382\n",
      "R2 test score = 0.3284875313602935\n",
      "n_neighbors=6\n",
      "R2 train score = 0.5798068060304129\n",
      "R2 test score = 0.34198004354416\n",
      "n_neighbors=7\n",
      "R2 train score = 0.5774888738145572\n",
      "R2 test score = 0.34425865483160567\n",
      "n_neighbors=8\n",
      "R2 train score = 0.5672443132619438\n",
      "R2 test score = 0.3729549962651513\n",
      "n_neighbors=9\n",
      "R2 train score = 0.5641246455859588\n",
      "R2 test score = 0.36825966395622667\n"
     ]
    }
   ],
   "source": [
    "X_train, X_test, y_train, y_test=  get_X_y()\n",
    "\n",
    "from sklearn.neighbors import KNeighborsRegressor\n",
    "print ('KNN')\n",
    "for n_neighbors in range(1,10):\n",
    "    regressor = KNeighborsRegressor(n_neighbors=n_neighbors).fit (X_train,y_train)\n",
    "    print ('n_neighbors={}'.format (n_neighbors))\n",
    "    print ('R2 train score =', regressor.score(X_train, y_train))\n",
    "    print ('R2 test score =', regressor.score(X_test, y_test))"
   ]
  },
  {
   "cell_type": "code",
   "execution_count": 10,
   "id": "cae550a7-9f41-4f92-8efe-d16fdde30fcd",
   "metadata": {},
   "outputs": [],
   "source": [
    "from sklearn.preprocessing import PolynomialFeatures\n",
    "from sklearn.linear_model import LinearRegression"
   ]
  },
  {
   "cell_type": "code",
   "execution_count": 11,
   "id": "05d5ac0e-395b-44dd-aa78-51e6171faca6",
   "metadata": {},
   "outputs": [
    {
     "name": "stdout",
     "output_type": "stream",
     "text": [
      "Selecting all features\n",
      "X_train.shape=  (331, 10)\n",
      "X_train_poly.shape=  (331, 65)\n",
      "Polynomial + Linear Regression\n",
      "R2 train score = 0.6207810962295996\n",
      "R2 test score = 0.3472243986719058\n",
      "b: 55.74564209006542, \n",
      "w= [ 1.06137498e+02 -2.77244219e+02  5.11354358e+02  2.51478306e+02\n",
      " -1.82518302e+04  1.59323845e+04  6.66445690e+03  1.74014774e+02\n",
      "  6.57536398e+03  9.66610282e+01  2.78325334e+03  3.85281468e+03\n",
      " -1.53395915e+02  9.33380694e+02  7.84255464e+03 -1.10762461e+04\n",
      " -1.11174456e+03  2.01277652e+03  1.35040875e+03 -1.10327017e+03\n",
      " -1.67413427e+00  2.29828166e+03  2.55277891e+02 -6.62033960e+02\n",
      "  1.81130613e+03  1.37538779e+02 -6.93403727e+03  1.68439720e+03\n",
      "  1.60179356e+03  1.15224299e+03  3.13930733e+03 -8.23706391e+02\n",
      "  6.06446052e+02  9.05587243e+02 -1.25957240e+03  3.92326702e+02\n",
      "  7.84474860e+02 -3.72762355e+02  1.50641940e+04 -1.23251806e+04\n",
      " -3.94541792e+03  3.05725415e+03 -5.21151753e+03 -2.22762962e+03\n",
      "  8.83280542e+04 -1.14624080e+05 -7.24321258e+04 -3.63921143e+04\n",
      " -2.64089121e+04 -4.87133850e+03  3.72219511e+04  4.48634626e+04\n",
      "  2.00114668e+04  1.20913439e+04  9.24913877e+02  1.31372359e+04\n",
      "  9.59115876e+03  1.12090903e+04  1.07482695e+04  3.89815589e+03\n",
      "  9.14000032e+03  8.77867792e+03  2.96364287e+04  3.13815886e+03\n",
      "  1.70557446e+03]\n"
     ]
    }
   ],
   "source": [
    "X_train, X_test, y_train, y_test=  get_X_y()\n",
    "\n",
    "poly= PolynomialFeatures(degree=2,include_bias=False) \n",
    "X_train_poly= poly.fit_transform(X_train)\n",
    "X_test_poly = poly.transform(X_test)\n",
    "print ('X_train.shape= ',X_train.shape)\n",
    "print ('X_train_poly.shape= ',X_train_poly.shape)\n",
    "# X_train_poly[:5]\n",
    "poly_lin_reg = LinearRegression().fit (X_train_poly,y_train)\n",
    "regressor = poly_lin_reg\n",
    "print ('Polynomial + Linear Regression')\n",
    "print ('R2 train score =', regressor.score(X_train_poly, y_train))\n",
    "print ('R2 test score =', regressor.score(X_test_poly, y_test))\n",
    "print ('b: {}, \\nw= {}'.format(regressor.intercept_, regressor.coef_)) "
   ]
  },
  {
   "cell_type": "code",
   "execution_count": 12,
   "id": "dc408d06-7ca7-4913-a6a4-6dea3313d5d7",
   "metadata": {},
   "outputs": [],
   "source": [
    "from sklearn.linear_model import Ridge"
   ]
  },
  {
   "cell_type": "code",
   "execution_count": 13,
   "id": "480ef7c1-8e90-4da9-9335-2fb42f2568e2",
   "metadata": {},
   "outputs": [
    {
     "name": "stdout",
     "output_type": "stream",
     "text": [
      "Selecting all features\n",
      "X_train.shape=  (331, 10)\n",
      "X_train_poly.shape=  (331, 65)\n",
      "Polynomial + Ridge\n",
      "R2 train score = 2.1609200691052877e-06\n",
      "R2 test score = -0.013170793147653903\n"
     ]
    }
   ],
   "source": [
    "X_train, X_test, y_train, y_test=  get_X_y(verbose= False)\n",
    "\n",
    "poly= PolynomialFeatures(degree=2,include_bias=False) \n",
    "X_train_poly= poly.fit_transform(X_train)\n",
    "X_test_poly = poly.transform(X_test)\n",
    "print ('X_train.shape= ',X_train.shape)\n",
    "print ('X_train_poly.shape= ',X_train_poly.shape)\n",
    "\n",
    "poly_ridge = Ridge(alpha=int(1e6), max_iter=int(1e5)).fit (X_train_poly,y_train) \n",
    "regressor = poly_ridge\n",
    "print ('Polynomial + Ridge')\n",
    "\n",
    "print ('R2 train score =', regressor.score(X_train_poly, y_train))\n",
    "print ('R2 test score =', regressor.score(X_test_poly, y_test))\n",
    "w= regressor.coef_"
   ]
  },
  {
   "cell_type": "code",
   "execution_count": 14,
   "id": "e44ba251-7630-4d1e-9bf1-4d3a1f4eb251",
   "metadata": {},
   "outputs": [
    {
     "name": "stdout",
     "output_type": "stream",
     "text": [
      "Selecting all features\n",
      "X_train.shape=  (331, 10)\n",
      "X_train_poly.shape=  (331, 285)\n",
      "Polynomial + Lasso\n",
      "R2 train score = 0.36601908968194896\n",
      "R2 test score = 0.33920924807921515\n",
      "b: 149.48529539341314, \n",
      "w= [  0.          -0.         379.30812187   0.           0.\n",
      "   0.          -0.           0.         317.42349078   0.\n",
      "   0.           0.           0.           0.          -0.\n",
      "  -0.          -0.           0.           0.           0.\n",
      "  -0.           0.           0.           0.          -0.\n",
      "   0.          -0.           0.           0.           0.\n",
      "   0.          -0.          -0.          -0.           0.\n",
      "   0.           0.           0.           0.          -0.\n",
      "   0.           0.           0.           0.           0.\n",
      "  -0.          -0.          -0.           0.           0.\n",
      "  -0.           0.          -0.          -0.           0.\n",
      "  -0.          -0.           0.          -0.           0.\n",
      "   0.           0.           0.           0.           0.\n",
      "   0.          -0.           0.           0.           0.\n",
      "   0.          -0.           0.           0.           0.\n",
      "   0.           0.          -0.          -0.          -0.\n",
      "  -0.           0.          -0.          -0.           0.\n",
      "   0.          -0.           0.          -0.           0.\n",
      "   0.           0.           0.           0.           0.\n",
      "  -0.           0.           0.           0.           0.\n",
      "   0.           0.           0.           0.           0.\n",
      "   0.           0.           0.           0.          -0.\n",
      "   0.          -0.          -0.          -0.           0.\n",
      "   0.           0.           0.           0.           0.\n",
      "  -0.           0.           0.           0.           0.\n",
      "  -0.           0.           0.           0.           0.\n",
      "   0.          -0.          -0.          -0.           0.\n",
      "   0.           0.           0.          -0.           0.\n",
      "  -0.           0.           0.           0.          -0.\n",
      "  -0.          -0.          -0.           0.          -0.\n",
      "  -0.          -0.          -0.          -0.          -0.\n",
      "   0.          -0.          -0.          -0.           0.\n",
      "   0.           0.           0.           0.          -0.\n",
      "   0.           0.          -0.           0.          -0.\n",
      "   0.           0.           0.           0.          -0.\n",
      "  -0.          -0.           0.           0.           0.\n",
      "   0.           0.           0.           0.           0.\n",
      "   0.           0.           0.           0.           0.\n",
      "   0.           0.          -0.          -0.          -0.\n",
      "   0.           0.           0.           0.           0.\n",
      "   0.           0.           0.           0.          -0.\n",
      "   0.           0.           0.           0.           0.\n",
      "   0.           0.           0.           0.           0.\n",
      "  -0.           0.           0.           0.           0.\n",
      "  -0.          -0.          -0.           0.           0.\n",
      "   0.           0.           0.           0.           0.\n",
      "   0.          -0.           0.           0.           0.\n",
      "  -0.          -0.          -0.           0.           0.\n",
      "  -0.          -0.          -0.          -0.           0.\n",
      "   0.           0.           0.           0.           0.\n",
      "  -0.          -0.          -0.           0.           0.\n",
      "   0.          -0.          -0.          -0.           0.\n",
      "   0.           0.           0.           0.           0.\n",
      "  -0.           0.           0.           0.          -0.\n",
      "  -0.          -0.          -0.          -0.          -0.\n",
      "   0.           0.           0.           0.           0.\n",
      "   0.           0.           0.           0.           0.        ]\n",
      "\n",
      "Relevant w= [379.30812187 317.42349078]\n"
     ]
    }
   ],
   "source": [
    "X_train, X_test, y_train, y_test=  get_X_y(verbose= False)\n",
    "\n",
    "poly= PolynomialFeatures(degree=3,include_bias=False) \n",
    "X_train_poly= poly.fit_transform(X_train)\n",
    "X_test_poly = poly.transform(X_test)\n",
    "print ('X_train.shape= ',X_train.shape)\n",
    "print ('X_train_poly.shape= ',X_train_poly.shape)\n",
    "\n",
    "poly_lasso = Lasso(max_iter=100000).fit (X_train_poly,y_train)\n",
    "regressor = poly_lasso\n",
    "print ('Polynomial + Lasso')\n",
    "print ('R2 train score =', regressor.score(X_train_poly, y_train))\n",
    "print ('R2 test score =', regressor.score(X_test_poly, y_test))\n",
    "\n",
    "w= regressor.coef_\n",
    "print ('b: {}, \\nw= {}'.format(regressor.intercept_, w)) \n",
    "w_relevant= w[np.abs(w) > 1e-2]\n",
    "print ('\\nRelevant w= {}'.format(w_relevant)) "
   ]
  },
  {
   "cell_type": "code",
   "execution_count": null,
   "id": "c8e10325-eb36-4b37-9c74-077bbe625ba8",
   "metadata": {},
   "outputs": [],
   "source": []
  }
 ],
 "metadata": {
  "kernelspec": {
   "display_name": "Python 3 (ipykernel)",
   "language": "python",
   "name": "python3"
  },
  "language_info": {
   "codemirror_mode": {
    "name": "ipython",
    "version": 3
   },
   "file_extension": ".py",
   "mimetype": "text/x-python",
   "name": "python",
   "nbconvert_exporter": "python",
   "pygments_lexer": "ipython3",
   "version": "3.13.1"
  }
 },
 "nbformat": 4,
 "nbformat_minor": 5
}
