{
 "cells": [
  {
   "cell_type": "code",
   "execution_count": null,
   "id": "04c24ae7-fcdf-4fb2-bc6e-fa3519d1a1e5",
   "metadata": {},
   "outputs": [],
   "source": [
    "!pip install pandas\n",
    "!pip install pandas openpyxl\n",
    "!pip install xlrd\n"
   ]
  },
  {
   "cell_type": "code",
   "execution_count": null,
   "id": "585f4e64-f31b-42a8-841e-97b231cbf2e6",
   "metadata": {},
   "outputs": [],
   "source": [
    "import pandas as pd \n",
    "import os\n",
    "import numpy as np"
   ]
  },
  {
   "cell_type": "code",
   "execution_count": null,
   "id": "5f3b0404-8452-4db2-a710-15287d667cf7",
   "metadata": {},
   "outputs": [],
   "source": [
    "def answer_one():\n",
    "    file_name= os.path.join('Energy Indicators.xls')\n",
    "    df = pd.read_excel(file_name, skiprows=17, skipfooter=38)\n",
    "    pd.set_option('display.max_rows', None)  \n",
    "    pd.set_option('display.max_columns', None) \n",
    "    energy = pd.DataFrame(df)\n",
    "    energy\n",
    "\n",
    "    del energy['Unnamed: 0']\n",
    "    del energy['Unnamed: 1']\n",
    "\n",
    "    energy.rename(columns = {'Unnamed: 2':'Country', 'Petajoules':'Energy Supply', 'Gigajoules':'Energy Supply per Capita', '%':'% Renewable'}, inplace = True) \n",
    "    \n",
    "    def convert_petajoule_to_gigajoules(x):\n",
    "        if x == '...':\n",
    "            return x\n",
    "        else:\n",
    "            return x * 10**6\n",
    "\n",
    "    energy['Energy Supply'] = energy['Energy Supply'].apply(convert_petajoule_to_gigajoules)\n",
    "\n",
    "    energy[['Energy Supply', 'Energy Supply per Capita']] = np.where(\n",
    "    energy[['Energy Supply', 'Energy Supply per Capita']] == '...',\n",
    "    np.nan,\n",
    "    energy[['Energy Supply', 'Energy Supply per Capita']]\n",
    "    )\n",
    "\n",
    "    def delete_number(x):\n",
    "        return ' '.join([char for char in str(x) if not char.isdigit()])\n",
    "\n",
    "    energy['Country'] = energy['Country'].apply(lambda x: ''.join([char for char in str(x) if not char.isdigit()]))\n",
    "\n",
    "    def remove_text_in_brackets(input_string):\n",
    "        result = []\n",
    "        inside_brackets = False\n",
    "    \n",
    "        for i, char in enumerate(input_string):\n",
    "            if char == '(':\n",
    "                inside_brackets = True\n",
    "            elif char == ')':\n",
    "                inside_brackets = False\n",
    "            elif not inside_brackets:\n",
    "                result.append(char)\n",
    "    \n",
    "        return ''.join(result).strip()\n",
    "\n",
    "    energy['Country'] = energy['Country'].apply(remove_text_in_brackets)\n",
    "\n",
    "    dict_one = {'Republic of Korea': 'South Korea', 'United States of America': 'United States', \n",
    "        'United Kingdom of Great Britain and Northern Ireland': 'United Kingdom', 'China, Hong Kong Special Administrative Region': 'Hong Kong'}\n",
    "\n",
    "    for key, var in dict_one.items():\n",
    "        energy['Country'] = energy['Country'].replace(key, var)\n",
    "\n",
    "    file_name_csv = 'world_bank.csv'\n",
    "    df_two = pd.read_csv(file_name_csv, sep = ',', header= None, skiprows=4, encoding='utf-8')\n",
    "    GDP = pd.DataFrame(df_two)\n",
    "\n",
    "    dict_two = {'Korea, Rep.': 'South Korea', 'Iran, Islamic Rep.': 'Iran', \n",
    "        'Hong Kong SAR, China': 'Hong Kong'}\n",
    "\n",
    "    #for key, var in dict_two.items():\n",
    "    #    GDP['Country Name'] = GDP['Country Name'].replace(key, var)\n",
    "    GDP[0] = GDP[0].replace(dict_two)\n",
    "    GDP.columns = GDP.iloc[0]  \n",
    "    GDP = GDP[1:]\n",
    "    GDP.rename(columns = {'Country Name':'Country'}, inplace = True) \n",
    "    GDP['Country'] = GDP['Country'].apply(remove_text_in_brackets)\n",
    "\n",
    "    file_name_three= os.path.join('scimagojr.xlsx')\n",
    "    df_three = pd.read_excel(file_name_three, skiprows=0, skipfooter=0)\n",
    "    pd.set_option('display.max_rows', None)  \n",
    "    pd.set_option('display.max_columns', None) \n",
    "    ScimEn = pd.DataFrame(df_three)\n",
    "    ScimEn['Country'] = ScimEn['Country'].apply(remove_text_in_brackets)\n",
    "\n",
    "    energy.set_index('Country', inplace=True)\n",
    "    GDP.set_index('Country', inplace=True)\n",
    "    ScimEn.set_index('Country', inplace=True)\n",
    "\n",
    "    old_column_value = 1960.0\n",
    "    for i in range(1960, 2016, 1):\n",
    "        GDP.rename(columns={old_column_value: int(old_column_value)}, inplace=True)\n",
    "        old_column_value += 1\n",
    "\n",
    "    GDP_selected = GDP.loc[:, 2006:2015]\n",
    "    df_four = energy.merge(ScimEn, on=\"Country\", how=\"inner\")\n",
    "    df_four = df_four.merge(GDP_selected, on=\"Country\", how=\"inner\")\n",
    "    df_four = df_four.drop(columns=['Region'])\n",
    "    df_filtered = df_four[df_four['Rank'] <= 15]\n",
    "    df_filtered = df_filtered.sort_values(by='Rank')\n",
    "        \n",
    "    return df_filtered"
   ]
  },
  {
   "cell_type": "code",
   "execution_count": null,
   "id": "00ae503a-ecbb-48b0-94e6-def27da3ad66",
   "metadata": {},
   "outputs": [],
   "source": [
    "question_1 = answer_one()\n",
    "question_1"
   ]
  },
  {
   "cell_type": "code",
   "execution_count": null,
   "id": "7f474b1e-ed2b-46e6-8554-6695333477ae",
   "metadata": {},
   "outputs": [],
   "source": [
    "def answer_two():\n",
    "    Top15 = answer_one()\n",
    "    for col in Top15.columns:\n",
    "        if col == 2006:\n",
    "            break\n",
    "        del Top15[col]\n",
    "\n",
    "    Top15['row_mean'] = Top15.mean(axis=1)\n",
    "    avgGDP = Top15['row_mean'].sort_values(ascending=False)\n",
    "    return avgGDP"
   ]
  },
  {
   "cell_type": "code",
   "execution_count": null,
   "id": "4b66f936-679d-4f9b-8d55-9f56dfb2669f",
   "metadata": {},
   "outputs": [],
   "source": [
    "question_2 = answer_two()\n",
    "question_2"
   ]
  },
  {
   "cell_type": "code",
   "execution_count": null,
   "id": "d9de27cf-5fc8-45ab-ba48-8fe85129ebbb",
   "metadata": {},
   "outputs": [],
   "source": [
    "def answer_three():\n",
    "    Top15 = answer_one()\n",
    "    for col in Top15.columns:\n",
    "        if col == 2006:\n",
    "            break\n",
    "        del Top15[col]\n",
    "\n",
    "    Top15['row_mean'] = Top15.mean(axis=1)\n",
    "\n",
    "    top_6_country = Top15['row_mean'].sort_values(ascending=False).index[5]\n",
    "    gdp_2006 = Top15.loc[top_6_country, 2006]\n",
    "    gdp_2015 = Top15.loc[top_6_country, 2015]\n",
    "    percent_change = ((gdp_2015 - gdp_2006) / gdp_2006) * 100\n",
    "    \n",
    "    return float(percent_change)\n"
   ]
  },
  {
   "cell_type": "code",
   "execution_count": null,
   "id": "c79a3cab-7dea-485c-8eb6-4e07ac6221b7",
   "metadata": {},
   "outputs": [],
   "source": [
    "question_3 = answer_three()\n",
    "question_3"
   ]
  },
  {
   "cell_type": "code",
   "execution_count": null,
   "id": "8dca82d4-e702-4f36-a750-5e24a9108349",
   "metadata": {},
   "outputs": [],
   "source": [
    "def answer_four():\n",
    "    Top15 = answer_one()\n",
    "    Top15['Self-citation Ratio'] = Top15['Self-citations'] / Top15['Citations']\n",
    "    max_ratio = Top15['Self-citation Ratio'].max()\n",
    "    country_with_max_ratio = Top15['Self-citation Ratio'].idxmax()\n",
    "    return (country_with_max_ratio, float(max_ratio))"
   ]
  },
  {
   "cell_type": "code",
   "execution_count": null,
   "id": "54440051-ad53-44d4-b7aa-2e2afc343081",
   "metadata": {},
   "outputs": [],
   "source": [
    "question_4 = answer_four()\n",
    "question_4"
   ]
  },
  {
   "cell_type": "code",
   "execution_count": null,
   "id": "3dce21ab-a95b-4c05-b944-54e0652faca5",
   "metadata": {},
   "outputs": [],
   "source": [
    "def answer_five():\n",
    "    Top15 = answer_one()\n",
    "    Top15['Population'] = Top15['Energy Supply'] / Top15['Energy Supply per Capita'] \n",
    "    third_population_country = Top15.sort_values(by='Population', ascending=False).index[2]\n",
    "    return str(third_population_country)"
   ]
  },
  {
   "cell_type": "code",
   "execution_count": null,
   "id": "ef19d13f-9ae3-4b5c-8e51-9017c81523c0",
   "metadata": {},
   "outputs": [],
   "source": [
    "question_5 = answer_five()\n",
    "question_5"
   ]
  },
  {
   "cell_type": "code",
   "execution_count": null,
   "id": "d15e512d-9119-45ae-a551-35a0716cd72b",
   "metadata": {},
   "outputs": [],
   "source": []
  }
 ],
 "metadata": {
  "kernelspec": {
   "display_name": "Python 3 (ipykernel)",
   "language": "python",
   "name": "python3"
  },
  "language_info": {
   "codemirror_mode": {
    "name": "ipython",
    "version": 3
   },
   "file_extension": ".py",
   "mimetype": "text/x-python",
   "name": "python",
   "nbconvert_exporter": "python",
   "pygments_lexer": "ipython3",
   "version": "3.13.1"
  }
 },
 "nbformat": 4,
 "nbformat_minor": 5
}
