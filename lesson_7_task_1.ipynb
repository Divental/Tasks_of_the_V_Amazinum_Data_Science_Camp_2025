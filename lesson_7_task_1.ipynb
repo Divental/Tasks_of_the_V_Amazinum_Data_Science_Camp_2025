{
 "cells": [
  {
   "cell_type": "code",
   "execution_count": 38,
   "id": "aa0107c4-5f1c-4f23-9978-0bd06fb350b3",
   "metadata": {},
   "outputs": [
    {
     "name": "stdout",
     "output_type": "stream",
     "text": [
      "Requirement already satisfied: h5py in d:\\python\\python313\\lib\\site-packages (3.13.0)\n",
      "Requirement already satisfied: numpy>=1.19.3 in d:\\python\\python313\\lib\\site-packages (from h5py) (2.2.3)\n"
     ]
    },
    {
     "name": "stderr",
     "output_type": "stream",
     "text": [
      "\n",
      "[notice] A new release of pip is available: 24.3.1 -> 25.0.1\n",
      "[notice] To update, run: python.exe -m pip install --upgrade pip\n"
     ]
    },
    {
     "name": "stdout",
     "output_type": "stream",
     "text": [
      "Requirement already satisfied: h5py in d:\\python\\python313\\lib\\site-packages (3.13.0)\n",
      "Requirement already satisfied: numpy>=1.19.3 in d:\\python\\python313\\lib\\site-packages (from h5py) (2.2.3)\n"
     ]
    },
    {
     "name": "stderr",
     "output_type": "stream",
     "text": [
      "\n",
      "[notice] A new release of pip is available: 24.3.1 -> 25.0.1\n",
      "[notice] To update, run: python.exe -m pip install --upgrade pip\n"
     ]
    }
   ],
   "source": [
    "!pip install h5py\n",
    "!pip3 install h5py"
   ]
  },
  {
   "cell_type": "code",
   "execution_count": 39,
   "id": "b11eed88-76f8-4534-984a-93b81e016c7b",
   "metadata": {},
   "outputs": [],
   "source": [
    "import numpy as np\n",
    "import matplotlib.pyplot as plt\n",
    "import h5py # common package to interact with a dataset that is stored on an H5 file.\n",
    "import scipy\n",
    "# from PIL import Image\n",
    "from scipy import ndimage\n",
    "from scipy.stats import logistic\n"
   ]
  },
  {
   "cell_type": "code",
   "execution_count": 40,
   "id": "c45cf9f4-9b71-49f7-8899-acac8e3c6104",
   "metadata": {},
   "outputs": [
    {
     "data": {
      "text/plain": [
       "'D:\\\\VAmazinumCamp2025\\\\jupyter\\\\lesson_7_test_folder\\\\data'"
      ]
     },
     "execution_count": 40,
     "metadata": {},
     "output_type": "execute_result"
    }
   ],
   "source": [
    "import os\n",
    "cwd= os.getcwd() # current working directory\n",
    "path = os.path.join(cwd,'data') \n",
    "path"
   ]
  },
  {
   "cell_type": "code",
   "execution_count": 41,
   "id": "ea7ae86f-5f3c-463c-8666-9c0f3c17c98a",
   "metadata": {},
   "outputs": [],
   "source": [
    "def load_dataset():\n",
    "    file_name=  os.path.join(path , 'train_catvnoncat.h5')\n",
    "    train_dataset = h5py.File(file_name, \"r\")\n",
    "    X_train = np.array(train_dataset[\"train_set_x\"][:]) # your train set features\n",
    "    Y_train = np.array(train_dataset[\"train_set_y\"][:]) # your train set labels\n",
    "    \n",
    "    file_name=  os.path.join(path , 'test_catvnoncat.h5')\n",
    "    test_dataset = h5py.File(file_name, \"r\")\n",
    "    X_test = np.array(test_dataset[\"test_set_x\"][:]) # your test set features\n",
    "    Y_test = np.array(test_dataset[\"test_set_y\"][:]) # your test set labels\n",
    "\n",
    "    classes = ['non-cat','cat']\n",
    "    \n",
    "    Y_train = Y_train.reshape(-1,1)\n",
    "    Y_test = Y_test.reshape(-1,1)\n",
    "    \n",
    "    return X_train, Y_train, X_test, Y_test, classes"
   ]
  },
  {
   "cell_type": "code",
   "execution_count": null,
   "id": "b8bb3040-7e08-4598-be2f-0d4e1121df25",
   "metadata": {},
   "outputs": [],
   "source": []
  },
  {
   "cell_type": "code",
   "execution_count": 42,
   "id": "9f37e39e-245c-4364-b70b-ed6f7d0fe15f",
   "metadata": {},
   "outputs": [],
   "source": [
    "def sigmoid(z):\n",
    "    \"\"\"\n",
    "    Compute the sigmoid of z\n",
    "\n",
    "    Arguments:\n",
    "    z -- A scalar or numpy array of any size.\n",
    "\n",
    "    Return:\n",
    "    g -- sigmoid(z)\n",
    "    \"\"\"\n",
    "\n",
    "    g = logistic.cdf(z)  \n",
    "    \n",
    "    return g"
   ]
  },
  {
   "cell_type": "code",
   "execution_count": 43,
   "id": "f1990538-76d2-4712-8088-1c863d5e34df",
   "metadata": {},
   "outputs": [],
   "source": [
    "def initialize_with_zeros(dim):\n",
    "    \"\"\"\n",
    "    This function creates a vector of zeros of shape (1,dim) for w and initializes b to 0.\n",
    "    \n",
    "    Argument:\n",
    "    dim -- size of the w vector we want (or number of parameters in this case)\n",
    "    \n",
    "    Returns:\n",
    "    w -- initialized vector of shape (1,dim)\n",
    "    b -- initialized scalar (corresponds to the bias)\n",
    "    \"\"\"\n",
    "    \n",
    "    # YOUR_CODE.  Initialize b to zero and w as a vector of zeros. \n",
    "    # START_CODE   \n",
    "    w = np.zeros((1, dim))\n",
    "    b = 0\n",
    "    # END_CODE \n",
    "\n",
    "    assert(w.shape == (1,dim))\n",
    "    assert(isinstance(b, float) or isinstance(b, int))\n",
    "    \n",
    "    return w, b"
   ]
  },
  {
   "cell_type": "code",
   "execution_count": 44,
   "id": "a7c10b3d-5a37-4999-a19f-2686cf0ead04",
   "metadata": {},
   "outputs": [],
   "source": [
    "def propagate(w, b, X, Y, C=1):\n",
    "    \"\"\"\n",
    "    Implement the cost function and its gradient for the propagation explained above\n",
    "\n",
    "    Arguments:\n",
    "    w -- weights, a numpy array of size (1,num_px * num_px * 3)\n",
    "    b -- bias, a scalar\n",
    "    X -- data of size (number of examples, num_px * num_px * 3)\n",
    "    Y -- true \"label\" vector (containing 0 if non-cat, 1 if cat) of size (number of examples,1)\n",
    "\n",
    "    Return:\n",
    "    cost -- negative log-likelihood cost for logistic regression\n",
    "    dw -- gradient of the loss with respect to w, thus same shape as w\n",
    "    db -- gradient of the loss with respect to b, thus same shape as b\n",
    "    \n",
    "    \"\"\"\n",
    "    m = X.shape[0]\n",
    " \n",
    "    # YOUR_CODE.  implement forward propagation \n",
    "    # START_CODE \n",
    "    #print(X.shape)\n",
    "    #print(w.shape)\n",
    "    Z= X @ w.T + b \n",
    "    #Z = np.dot(X, w.T) + b\n",
    "    A=  1 / (1 + np.exp(-Z))\n",
    "    #A = logistic.cdf(Z)  \n",
    "    cost = -np.sum(Y * np.log(A) + (1 - Y) * np.log(1 - A)) / m\n",
    "    \n",
    "    # END_CODE \n",
    "    \n",
    "    # YOUR_CODE.  Implement Backward propahation \n",
    "    # START_CODE   \n",
    "    dJ_dw = (A - Y).T @ X / m\n",
    "    #dJ_dw = np.dot((A - Y).T, X) / m\n",
    "    dJ_db = np.sum(A - Y) / m\n",
    "\n",
    "   # END_CODE \n",
    "\n",
    "    assert(dJ_dw.shape == w.shape)\n",
    "    assert(dJ_db.dtype == float)\n",
    "    assert(cost.dtype == float)\n",
    "    \n",
    "    grads = {\"dJ_dw\": dJ_dw,\n",
    "             \"dJ_db\": dJ_db}\n",
    "    #print(f\"Z: {Z}\")\n",
    "    #print(f\"A: {A}\")\n",
    "    #print(f\"Y: {Y}\")\n",
    "    return grads, cost"
   ]
  },
  {
   "cell_type": "code",
   "execution_count": 45,
   "id": "66683db0-5fa4-4e57-b8c9-1536bc4a60b1",
   "metadata": {},
   "outputs": [],
   "source": [
    "def optimize(w, b, X, Y, num_iterations, learning_rate, C = 1, verbose = False):\n",
    "    \"\"\"\n",
    "    This function optimizes w and b by running a gradient descent algorithm\n",
    "    \n",
    "    Arguments:\n",
    "    w -- weights, a numpy array of size (1,num_px * num_px * 3)\n",
    "    b -- bias, a scalar\n",
    "    X -- data of size (number of examples, num_px * num_px * 3)\n",
    "    Y -- true \"label\" vector (containing 0 if non-cat, 1 if cat) of size (number of examples,1)\n",
    "    num_iterations -- number of iterations of the optimization loop\n",
    "    learning_rate -- learning rate of the gradient descent update rule\n",
    "    print_cost -- True to print the loss every 100 steps\n",
    "    \n",
    "    Returns:\n",
    "    params -- dictionary containing the weights w and bias b\n",
    "    grads -- dictionary containing the gradients of the weights and bias with respect to the cost function\n",
    "    costs -- list of all the costs computed during the optimization, this will be used to plot the learning curve.\n",
    "    \"\"\"\n",
    "    print(C)\n",
    "    costs = [] # keep history for plotting if necessary \n",
    "    \n",
    "    for i in range(num_iterations):        \n",
    "\n",
    "    \n",
    "        # YOUR_CODE.  Call to compute cost and gradient \n",
    "        # START_CODE   \n",
    "        grads, cost = propagate(w, b, X, Y)\n",
    "        # END_CODE \n",
    "        \n",
    "        # Retrieve derivatives from grads\n",
    "        dJ_dw = grads[\"dJ_dw\"]\n",
    "        dJ_db = grads[\"dJ_db\"]\n",
    "        \n",
    "        # YOUR_CODE.  Update paramaters \n",
    "        # START_CODE   \n",
    "        w = w - dJ_dw * learning_rate\n",
    "        b = b - dJ_db * learning_rate\n",
    "        # END_CODE \n",
    "        \n",
    "        # Record the costs\n",
    "        if i % 100 == 0:\n",
    "            costs.append(cost)\n",
    "        \n",
    "        # Print the cost every 100 training iterations\n",
    "        if verbose and i % 100 == 0:\n",
    "            print (\"Cost after iteration %i: %f\" %(i, cost))\n",
    "    \n",
    "    params = {\"w\": w,\n",
    "              \"b\": b}\n",
    "    \n",
    "    grads = {\"dJ_dw\": dJ_dw,\n",
    "             \"dJ_db\": dJ_db}\n",
    "    \n",
    "    return params, grads, costs"
   ]
  },
  {
   "cell_type": "code",
   "execution_count": 46,
   "id": "7ccabaf6-3881-4b4c-8974-7011defcff2d",
   "metadata": {},
   "outputs": [],
   "source": [
    "def predict(w, b, X):\n",
    "    '''\n",
    "    Predict whether the label is 0 or 1 using learned logistic regression parameters (w, b)\n",
    "    \n",
    "    Arguments:\n",
    "    w - weights, a numpy array of size (1,num_px * num_px * 3)\n",
    "    b - bias, a scalar\n",
    "    X - data of size (number of examples, num_px * num_px * 3)\n",
    "    \n",
    "    Returns:\n",
    "    Y_prediction - a numpy array of shape (number of examples, 1) containing all predictions (0/1) for the examples in X\n",
    "    '''\n",
    "    m,n = X.shape\n",
    "    assert (w.shape==(1,n))\n",
    " \n",
    "    # YOUR_CODE.  Compute \"A\" predicting the probabilities of a cat being present in the picture\n",
    "    # START_CODE   \n",
    "    A= 1 / (1 + np.exp(-(b + X @ w.T)))\n",
    "    # END_CODE \n",
    "\n",
    "    # YOUR_CODE.  Convert probabilities to actual predictions 0 or 1 \n",
    "    # START_CODE   \n",
    "    Y_prediction = (A > 0.5).astype(int)\n",
    "    # END_CODE \n",
    "    \n",
    "    assert(Y_prediction.shape == (m, 1))\n",
    "    \n",
    "    return Y_prediction"
   ]
  },
  {
   "cell_type": "code",
   "execution_count": 47,
   "id": "eadef265-63b6-4e03-a78c-ac374f14d4b4",
   "metadata": {},
   "outputs": [],
   "source": [
    "def model(X_train, Y_train, X_test, Y_test, num_iterations = 2000, learning_rate = 0.5, verbose = False, C= 1):\n",
    "    \"\"\"\n",
    "    Builds the logistic regression model by calling the functions implemented previously\n",
    "    \n",
    "    Arguments:\n",
    "    X_train -- training set represented by a numpy array of shape (number of examples, num_px * num_px * 3)\n",
    "    Y_train -- training labels represented by a numpy array (vector) of shape (1, m_train)\n",
    "    X_test -- test set represented by a numpy array of shape (num_px * num_px * 3, m_test)\n",
    "    Y_test -- test labels represented by a numpy array (vector) of shape (number of examples,1)\n",
    "    num_iterations -- hyperparameter representing the number of iterations to optimize the parameters\n",
    "    learning_rate -- hyperparameter representing the learning rate used in the update rule of optimize()\n",
    "    print_cost -- Set to true to print the cost every 100 iterations\n",
    "    C- regularization parameter \n",
    "    \n",
    "    Returns:\n",
    "    res -- dictionary containing information about the model.\n",
    "    \"\"\"\n",
    "    \n",
    "    # YOUR_CODE.\n",
    "    # START_CODE   \n",
    "\n",
    "    #  initialize parameters\n",
    "    dim = X_train.shape[1]\n",
    "    #print(dim)\n",
    "    w, b = initialize_with_zeros(dim)\n",
    "    #print(str(w))\n",
    "    #print(str(b))\n",
    "    #print(C)\n",
    "    # run gradient descent \n",
    "    parameters, grads, costs = optimize(w, b, X_train, Y_train, num_iterations, learning_rate, C, verbose)\n",
    "    #print(parameters)\n",
    "    #print(grads)\n",
    "    #print(costs)\n",
    "    # retrieve parameters w and b from dictionary \"parameters\"\n",
    "    w = parameters[\"w\"]\n",
    "    b = parameters[\"b\"]\n",
    "    #print(w)\n",
    "    #print(b)\n",
    "    \n",
    "    # predict test/train set examples\n",
    "    Y_prediction_test = predict(w, b, X_test)\n",
    "    Y_prediction_train = predict(w, b, X_train)\n",
    "    # END_CODE \n",
    "    #print(Y_prediction_train.shape)\n",
    "    #print(Y_train.shape)\n",
    "    # Print train/test Errors\n",
    "    print(\"train accuracy= {:.3%}\".format(np.mean(Y_prediction_train == Y_train)))\n",
    "    print(\"test accuracy= {:.3%}\".format(np.mean(Y_prediction_test == Y_test)))\n",
    "    \n",
    "    res = {'costs': costs,\n",
    "           'Y_prediction_test': Y_prediction_test, \n",
    "           'Y_prediction_train' : Y_prediction_train, \n",
    "           'w' : w, \n",
    "           'b' : b,\n",
    "           'learning_rate' : learning_rate,\n",
    "           'num_iterations': num_iterations,\n",
    "           'C':C\n",
    "          }\n",
    "\n",
    "    return res\n",
    "    "
   ]
  },
  {
   "cell_type": "code",
   "execution_count": 48,
   "id": "07005f24-8cdb-4c47-b998-4909eb8437af",
   "metadata": {},
   "outputs": [],
   "source": [
    "X_train,Y_train, X_test, Y_test, classes = load_dataset()"
   ]
  },
  {
   "cell_type": "code",
   "execution_count": 49,
   "id": "0080586f-1584-4313-b172-f70e60e55ec3",
   "metadata": {},
   "outputs": [],
   "source": [
    "m_train = X_train.shape[0]\n",
    "num_px = 64\n",
    "m_test = X_test.shape[0]"
   ]
  },
  {
   "cell_type": "code",
   "execution_count": 50,
   "id": "1e6e6d8f-0d83-45a3-85fe-8b0927d3d8d7",
   "metadata": {},
   "outputs": [],
   "source": [
    "X_train_flatten = X_train.reshape(m_train, -1)\n",
    "X_test_flatten =  X_test.reshape(m_test, -1)"
   ]
  },
  {
   "cell_type": "code",
   "execution_count": 51,
   "id": "d157124f-5753-494d-a3b9-f440a9d27082",
   "metadata": {},
   "outputs": [],
   "source": [
    "X_train_scaled = X_train_flatten/255.\n",
    "X_test_scaled = X_test_flatten/255."
   ]
  },
  {
   "cell_type": "code",
   "execution_count": 52,
   "id": "f358c840-fa98-4e46-acc3-6f3bd7cdf1f3",
   "metadata": {},
   "outputs": [
    {
     "name": "stdout",
     "output_type": "stream",
     "text": [
      "0.3\n",
      "Cost after iteration 0: 0.693147\n",
      "Cost after iteration 100: 0.823921\n",
      "Cost after iteration 200: 0.418945\n",
      "Cost after iteration 300: 0.617350\n",
      "Cost after iteration 400: 0.522116\n",
      "Cost after iteration 500: 0.387709\n",
      "Cost after iteration 600: 0.236254\n",
      "Cost after iteration 700: 0.154222\n",
      "Cost after iteration 800: 0.135328\n",
      "Cost after iteration 900: 0.124971\n",
      "Cost after iteration 1000: 0.116478\n",
      "Cost after iteration 1100: 0.109193\n",
      "Cost after iteration 1200: 0.102804\n",
      "Cost after iteration 1300: 0.097130\n",
      "Cost after iteration 1400: 0.092043\n",
      "Cost after iteration 1500: 0.087453\n",
      "Cost after iteration 1600: 0.083286\n",
      "Cost after iteration 1700: 0.079487\n",
      "Cost after iteration 1800: 0.076007\n",
      "Cost after iteration 1900: 0.072809\n",
      "Cost after iteration 2000: 0.069860\n",
      "Cost after iteration 2100: 0.067132\n",
      "Cost after iteration 2200: 0.064601\n",
      "Cost after iteration 2300: 0.062247\n",
      "Cost after iteration 2400: 0.060053\n",
      "Cost after iteration 2500: 0.058002\n",
      "Cost after iteration 2600: 0.056081\n",
      "Cost after iteration 2700: 0.054279\n",
      "Cost after iteration 2800: 0.052585\n",
      "Cost after iteration 2900: 0.050990\n",
      "train accuracy= 100.000%\n",
      "test accuracy= 68.000%\n"
     ]
    }
   ],
   "source": [
    "res = model(X_train= X_train_scaled,\n",
    "            Y_train=Y_train, \n",
    "            X_test=X_test_scaled, \n",
    "            Y_test= Y_test, \n",
    "            num_iterations = 3000, \n",
    "            learning_rate = 0.01, \n",
    "            verbose = True,\n",
    "            C= 0.3)"
   ]
  },
  {
   "cell_type": "code",
   "execution_count": 53,
   "id": "18f45156-2cce-4719-814e-aba4461c04d2",
   "metadata": {},
   "outputs": [
    {
     "data": {
      "image/png": "[encoded data removed]",
      "text/plain": [
       "<Figure size 640x480 with 1 Axes>"
      ]
     },
     "metadata": {},
     "output_type": "display_data"
    }
   ],
   "source": [
    "costs = np.squeeze(res['costs'])\n",
    "plt.plot(costs)\n",
    "plt.ylabel('cost')\n",
    "plt.xlabel('iterations (per hundreds)')\n",
    "plt.title(\"Learning rate =\" + str(res[\"learning_rate\"]))\n",
    "plt.show()"
   ]
  },
  {
   "cell_type": "code",
   "execution_count": 54,
   "id": "519310c7-033a-477f-b505-ce6a8b7cb9f8",
   "metadata": {},
   "outputs": [
    {
     "name": "stdout",
     "output_type": "stream",
     "text": [
      "1 1\n"
     ]
    }
   ],
   "source": [
    "index = 1  # приклад індексу\n",
    "print(Y_test[index, 0], res[\"Y_prediction_test\"][index, 0])"
   ]
  },
  {
   "cell_type": "code",
   "execution_count": 55,
   "id": "9f8107df-683d-4676-a6c9-821731b8f264",
   "metadata": {},
   "outputs": [
    {
     "name": "stdout",
     "output_type": "stream",
     "text": [
      "y_predicted = 1 (true label = 1) , you predicted that it is a cat picture.\n"
     ]
    },
    {
     "data": {
      "image/png": "[encoded data removed]",
      "text/plain": [
       "<Figure size 640x480 with 1 Axes>"
      ]
     },
     "metadata": {},
     "output_type": "display_data"
    }
   ],
   "source": [
    "plt.imshow(X_test[index,:].reshape(num_px, num_px, 3))\n",
    "y_true = Y_test[index,0]\n",
    "y_predicted =  res[\"Y_prediction_test\"][index,0]\n",
    "print ('y_predicted = {} (true label = {}) , you predicted that it is a {} picture.'.\\\n",
    "       format(y_predicted,\n",
    "              y_true,\n",
    "              classes[y_predicted]))"
   ]
  },
  {
   "cell_type": "code",
   "execution_count": 56,
   "id": "95a04ff9-7467-438f-80a5-9fc42505c1df",
   "metadata": {},
   "outputs": [
    {
     "name": "stdout",
     "output_type": "stream",
     "text": [
      "y_predicted = 0 (true label = 1) , you predicted that it is a non-cat picture.\n"
     ]
    },
    {
     "data": {
      "image/png": "[encoded data removed]",
      "text/plain": [
       "<Figure size 640x480 with 1 Axes>"
      ]
     },
     "metadata": {},
     "output_type": "display_data"
    }
   ],
   "source": [
    "index = 6\n",
    "plt.imshow(X_test[index,:].reshape(num_px, num_px, 3))\n",
    "y_true = Y_test[index,0]\n",
    "y_predicted =  res[\"Y_prediction_test\"][index,0]\n",
    "print ('y_predicted = {} (true label = {}) , you predicted that it is a {} picture.'.\\\n",
    "       format(y_predicted,\n",
    "              y_true,\n",
    "              classes[y_predicted]))"
   ]
  },
  {
   "cell_type": "code",
   "execution_count": null,
   "id": "7c8cb871-6a83-4dcf-adf3-c0f86ad2fa21",
   "metadata": {},
   "outputs": [],
   "source": []
  },
  {
   "cell_type": "code",
   "execution_count": 57,
   "id": "88f57974-e6dd-49b1-8e46-894642143580",
   "metadata": {},
   "outputs": [
    {
     "name": "stdout",
     "output_type": "stream",
     "text": [
      "image.size=  (64, 64)\n"
     ]
    },
    {
     "data": {
      "image/jpeg": "[encoded data removed]",
      "image/png": "[encoded data removed]",
      "text/plain": [
       "<PIL.Image.Image image mode=RGB size=64x64>"
      ]
     },
     "execution_count": 57,
     "metadata": {},
     "output_type": "execute_result"
    }
   ],
   "source": [
    "from PIL import Image\n",
    "file_name=  os.path.join(path , 'Oleksiy.Tsebriy.jpg')\n",
    "image = Image.open(file_name).resize((num_px,num_px))\n",
    "print ('image.size= ', image.size)\n",
    "image"
   ]
  },
  {
   "cell_type": "code",
   "execution_count": 58,
   "id": "3e0f267c-0511-4899-b36a-a273ed110c97",
   "metadata": {},
   "outputs": [
    {
     "data": {
      "text/plain": [
       "(4096, 3)"
      ]
     },
     "execution_count": 58,
     "metadata": {},
     "output_type": "execute_result"
    }
   ],
   "source": [
    "my_image= np.array(image.getdata())\n",
    "my_image.shape"
   ]
  },
  {
   "cell_type": "code",
   "execution_count": 59,
   "id": "ee8b1ed5-4bce-4849-8dea-2f670c065f44",
   "metadata": {},
   "outputs": [
    {
     "name": "stdout",
     "output_type": "stream",
     "text": [
      "my_image.shape= (1, 12288)\n"
     ]
    },
    {
     "data": {
      "text/plain": [
       "array([[227, 227, 217, ...,  43,  65,  96]], shape=(1, 12288))"
      ]
     },
     "execution_count": 59,
     "metadata": {},
     "output_type": "execute_result"
    }
   ],
   "source": [
    "my_image= my_image.reshape((1, num_px*num_px*3))\n",
    "print ('my_image.shape=',my_image.shape)\n",
    "my_image"
   ]
  },
  {
   "cell_type": "code",
   "execution_count": 60,
   "id": "1dde3ab3-f89a-423d-93cd-ed4713f36d2d",
   "metadata": {},
   "outputs": [
    {
     "name": "stdout",
     "output_type": "stream",
     "text": [
      "y = 0 , your algorithm predicts a non-cat picture.\n"
     ]
    },
    {
     "name": "stderr",
     "output_type": "stream",
     "text": [
      "C:\\Users\\Appwy\\AppData\\Local\\Temp\\ipykernel_4340\\2264268040.py:18: RuntimeWarning: overflow encountered in exp\n",
      "  A= 1 / (1 + np.exp(-(b + X @ w.T)))\n"
     ]
    }
   ],
   "source": [
    "my_predicted_image = predict(res[\"w\"], res[\"b\"], my_image)\n",
    "my_predicted_image\n",
    "print('y = {} , your algorithm predicts a {} picture.'.\n",
    "      format(np.squeeze(my_predicted_image),classes[np.squeeze(my_predicted_image)]))"
   ]
  },
  {
   "cell_type": "code",
   "execution_count": 61,
   "id": "0a5d1d05-1923-47b7-9085-2d121d08612b",
   "metadata": {},
   "outputs": [
    {
     "name": "stdout",
     "output_type": "stream",
     "text": [
      "image.size=  (64, 64)\n"
     ]
    },
    {
     "data": {
      "image/png": "[encoded data removed]",
      "text/plain": [
       "<PIL.Image.Image image mode=RGBA size=64x64>"
      ]
     },
     "execution_count": 61,
     "metadata": {},
     "output_type": "execute_result"
    }
   ],
   "source": [
    "file_name=  os.path.join(path , 'test_cat.jpg')\n",
    "image = Image.open(file_name).resize((num_px,num_px))\n",
    "print ('image.size= ', image.size)\n",
    "image"
   ]
  },
  {
   "cell_type": "code",
   "execution_count": 62,
   "id": "2de45cd0-fe29-44b9-8de1-af08bba04f03",
   "metadata": {},
   "outputs": [
    {
     "name": "stdout",
     "output_type": "stream",
     "text": [
      "my_image.shape= (4096, 3)\n",
      "after reshape: my_image.shape= (1, 12288)\n",
      "y = 1 , your algorithm predicts a cat picture.\n"
     ]
    }
   ],
   "source": [
    "my_image= np.array(image.getdata())[:,:3] # by unknown reason picture made as screenshot has 4 channels \n",
    "print ('my_image.shape=', my_image.shape)\n",
    "my_image= my_image.reshape((1, num_px*num_px*3))\n",
    "print ('after reshape: my_image.shape=',my_image.shape)\n",
    "my_predicted_image = predict(res[\"w\"], res[\"b\"], my_image)\n",
    "\n",
    "print('y = {} , your algorithm predicts a {} picture.'.\n",
    "      format(np.squeeze(my_predicted_image),classes[np.squeeze(my_predicted_image)]))"
   ]
  },
  {
   "cell_type": "code",
   "execution_count": null,
   "id": "7436c120-ddf7-4dfc-95f6-602d11bf6cad",
   "metadata": {},
   "outputs": [],
   "source": []
  }
 ],
 "metadata": {
  "kernelspec": {
   "display_name": "Python 3 (ipykernel)",
   "language": "python",
   "name": "python3"
  },
  "language_info": {
   "codemirror_mode": {
    "name": "ipython",
    "version": 3
   },
   "file_extension": ".py",
   "mimetype": "text/x-python",
   "name": "python",
   "nbconvert_exporter": "python",
   "pygments_lexer": "ipython3",
   "version": "3.13.1"
  }
 },
 "nbformat": 4,
 "nbformat_minor": 5
}
