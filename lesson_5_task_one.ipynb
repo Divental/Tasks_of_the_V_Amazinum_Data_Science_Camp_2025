{
 "cells": [
  {
   "cell_type": "code",
   "execution_count": 1,
   "id": "eb3d7d5a-260e-472b-9ace-d04dbde153bb",
   "metadata": {},
   "outputs": [
    {
     "name": "stdout",
     "output_type": "stream",
     "text": [
      "Requirement already satisfied: scikit-learn in d:\\python\\python313\\lib\\site-packages (1.6.1)\n",
      "Requirement already satisfied: numpy>=1.19.5 in d:\\python\\python313\\lib\\site-packages (from scikit-learn) (2.2.3)\n",
      "Requirement already satisfied: scipy>=1.6.0 in d:\\python\\python313\\lib\\site-packages (from scikit-learn) (1.15.2)\n",
      "Requirement already satisfied: joblib>=1.2.0 in d:\\python\\python313\\lib\\site-packages (from scikit-learn) (1.4.2)\n",
      "Requirement already satisfied: threadpoolctl>=3.1.0 in d:\\python\\python313\\lib\\site-packages (from scikit-learn) (3.6.0)\n"
     ]
    },
    {
     "name": "stderr",
     "output_type": "stream",
     "text": [
      "\n",
      "[notice] A new release of pip is available: 24.3.1 -> 25.0.1\n",
      "[notice] To update, run: python.exe -m pip install --upgrade pip\n"
     ]
    }
   ],
   "source": [
    "!pip install scikit-learn"
   ]
  },
  {
   "cell_type": "code",
   "execution_count": 2,
   "id": "1c979f8f-e4ff-427c-ad87-47dbf3f5e3f0",
   "metadata": {},
   "outputs": [],
   "source": [
    "import pandas as pd \n",
    "import numpy as np \n",
    "np.random.seed = 2021\n",
    "from sklearn.datasets import load_iris\n",
    "from ML_KNN_manual import train_test_split_df\n",
    "from ML_KNN_manual import KNN_classifier\n",
    "import ML_mst as mst\n",
    "from ML_KNN_manual import Scaler"
   ]
  },
  {
   "cell_type": "code",
   "execution_count": 3,
   "id": "0a2094d9-8156-4d54-84d2-f58ea448ffc6",
   "metadata": {},
   "outputs": [
    {
     "name": "stdout",
     "output_type": "stream",
     "text": [
      "data contains: dict_keys(['data', 'target', 'frame', 'target_names', 'DESCR', 'feature_names', 'filename', 'data_module'])\n",
      "Len = 150, shape= (150, 6), columns = ['sepal length (cm)', 'sepal width (cm)', 'petal length (cm)', 'petal width (cm)', 'label', 'label_names'],\n",
      "     sepal length (cm)  sepal width (cm)  petal length (cm)  petal width (cm)  \\\n",
      "34                 4.9               3.1                1.5               0.2   \n",
      "76                 6.8               2.8                4.8               1.4   \n",
      "123                6.3               2.7                4.9               1.8   \n",
      "108                6.7               2.5                5.8               1.8   \n",
      "5                  5.4               3.9                1.7               0.4   \n",
      "\n",
      "     label label_names  \n",
      "34       0      setosa  \n",
      "76       1  versicolor  \n",
      "123      2   virginica  \n",
      "108      2   virginica  \n",
      "5        0      setosa  \n",
      "  label_names  count\n",
      "0      setosa     50\n",
      "1  versicolor     50\n",
      "2   virginica     50\n"
     ]
    },
    {
     "data": {
      "text/html": [
       "<div>\n",
       "<style scoped>\n",
       "    .dataframe tbody tr th:only-of-type {\n",
       "        vertical-align: middle;\n",
       "    }\n",
       "\n",
       "    .dataframe tbody tr th {\n",
       "        vertical-align: top;\n",
       "    }\n",
       "\n",
       "    .dataframe thead th {\n",
       "        text-align: right;\n",
       "    }\n",
       "</style>\n",
       "<table border=\"1\" class=\"dataframe\">\n",
       "  <thead>\n",
       "    <tr style=\"text-align: right;\">\n",
       "      <th></th>\n",
       "      <th>sepal length (cm)</th>\n",
       "      <th>sepal width (cm)</th>\n",
       "      <th>petal length (cm)</th>\n",
       "      <th>petal width (cm)</th>\n",
       "      <th>label</th>\n",
       "      <th>label_names</th>\n",
       "    </tr>\n",
       "  </thead>\n",
       "  <tbody>\n",
       "    <tr>\n",
       "      <th>34</th>\n",
       "      <td>4.9</td>\n",
       "      <td>3.1</td>\n",
       "      <td>1.5</td>\n",
       "      <td>0.2</td>\n",
       "      <td>0</td>\n",
       "      <td>setosa</td>\n",
       "    </tr>\n",
       "    <tr>\n",
       "      <th>76</th>\n",
       "      <td>6.8</td>\n",
       "      <td>2.8</td>\n",
       "      <td>4.8</td>\n",
       "      <td>1.4</td>\n",
       "      <td>1</td>\n",
       "      <td>versicolor</td>\n",
       "    </tr>\n",
       "    <tr>\n",
       "      <th>123</th>\n",
       "      <td>6.3</td>\n",
       "      <td>2.7</td>\n",
       "      <td>4.9</td>\n",
       "      <td>1.8</td>\n",
       "      <td>2</td>\n",
       "      <td>virginica</td>\n",
       "    </tr>\n",
       "    <tr>\n",
       "      <th>108</th>\n",
       "      <td>6.7</td>\n",
       "      <td>2.5</td>\n",
       "      <td>5.8</td>\n",
       "      <td>1.8</td>\n",
       "      <td>2</td>\n",
       "      <td>virginica</td>\n",
       "    </tr>\n",
       "    <tr>\n",
       "      <th>5</th>\n",
       "      <td>5.4</td>\n",
       "      <td>3.9</td>\n",
       "      <td>1.7</td>\n",
       "      <td>0.4</td>\n",
       "      <td>0</td>\n",
       "      <td>setosa</td>\n",
       "    </tr>\n",
       "    <tr>\n",
       "      <th>...</th>\n",
       "      <td>...</td>\n",
       "      <td>...</td>\n",
       "      <td>...</td>\n",
       "      <td>...</td>\n",
       "      <td>...</td>\n",
       "      <td>...</td>\n",
       "    </tr>\n",
       "    <tr>\n",
       "      <th>19</th>\n",
       "      <td>5.1</td>\n",
       "      <td>3.8</td>\n",
       "      <td>1.5</td>\n",
       "      <td>0.3</td>\n",
       "      <td>0</td>\n",
       "      <td>setosa</td>\n",
       "    </tr>\n",
       "    <tr>\n",
       "      <th>128</th>\n",
       "      <td>6.4</td>\n",
       "      <td>2.8</td>\n",
       "      <td>5.6</td>\n",
       "      <td>2.1</td>\n",
       "      <td>2</td>\n",
       "      <td>virginica</td>\n",
       "    </tr>\n",
       "    <tr>\n",
       "      <th>46</th>\n",
       "      <td>5.1</td>\n",
       "      <td>3.8</td>\n",
       "      <td>1.6</td>\n",
       "      <td>0.2</td>\n",
       "      <td>0</td>\n",
       "      <td>setosa</td>\n",
       "    </tr>\n",
       "    <tr>\n",
       "      <th>28</th>\n",
       "      <td>5.2</td>\n",
       "      <td>3.4</td>\n",
       "      <td>1.4</td>\n",
       "      <td>0.2</td>\n",
       "      <td>0</td>\n",
       "      <td>setosa</td>\n",
       "    </tr>\n",
       "    <tr>\n",
       "      <th>132</th>\n",
       "      <td>6.4</td>\n",
       "      <td>2.8</td>\n",
       "      <td>5.6</td>\n",
       "      <td>2.2</td>\n",
       "      <td>2</td>\n",
       "      <td>virginica</td>\n",
       "    </tr>\n",
       "  </tbody>\n",
       "</table>\n",
       "<p>150 rows × 6 columns</p>\n",
       "</div>"
      ],
      "text/plain": [
       "     sepal length (cm)  sepal width (cm)  petal length (cm)  petal width (cm)  \\\n",
       "34                 4.9               3.1                1.5               0.2   \n",
       "76                 6.8               2.8                4.8               1.4   \n",
       "123                6.3               2.7                4.9               1.8   \n",
       "108                6.7               2.5                5.8               1.8   \n",
       "5                  5.4               3.9                1.7               0.4   \n",
       "..                 ...               ...                ...               ...   \n",
       "19                 5.1               3.8                1.5               0.3   \n",
       "128                6.4               2.8                5.6               2.1   \n",
       "46                 5.1               3.8                1.6               0.2   \n",
       "28                 5.2               3.4                1.4               0.2   \n",
       "132                6.4               2.8                5.6               2.2   \n",
       "\n",
       "     label label_names  \n",
       "34       0      setosa  \n",
       "76       1  versicolor  \n",
       "123      2   virginica  \n",
       "108      2   virginica  \n",
       "5        0      setosa  \n",
       "..     ...         ...  \n",
       "19       0      setosa  \n",
       "128      2   virginica  \n",
       "46       0      setosa  \n",
       "28       0      setosa  \n",
       "132      2   virginica  \n",
       "\n",
       "[150 rows x 6 columns]"
      ]
     },
     "execution_count": 3,
     "metadata": {},
     "output_type": "execute_result"
    }
   ],
   "source": [
    "iris = load_iris()\n",
    "print ('data contains:',iris.keys())\n",
    "X, y, labels, feature_names  = iris.data, iris.target, iris.target_names, iris['feature_names']\n",
    "df_iris= pd.DataFrame(X, columns= feature_names) \n",
    "df_iris['label'] =  y\n",
    "features_dict = {k:v for k,v in  enumerate(labels)}\n",
    "df_iris['label_names'] = df_iris.label.apply(lambda x: features_dict[x])\n",
    "df_iris = df_iris.sample(frac=1)\n",
    "mst.print_df_info(df_iris ,column_values_count ='label_names')\n",
    "df_iris "
   ]
  },
  {
   "cell_type": "code",
   "execution_count": 4,
   "id": "c4284b5d-e2a4-403d-8594-dbe490bd570b",
   "metadata": {},
   "outputs": [
    {
     "name": "stdout",
     "output_type": "stream",
     "text": [
      "len(train_df)=112\n",
      "len(test_df)=38\n"
     ]
    }
   ],
   "source": [
    "train_df_iris, test_df_iris =  train_test_split_df(df_iris)\n",
    "print ('len(train_df)={:,}'.format(len(train_df_iris)))\n",
    "print ('len(test_df)={:,}'.format(len(test_df_iris )))"
   ]
  },
  {
   "cell_type": "code",
   "execution_count": 5,
   "id": "b0aee758-0eaa-4038-a06e-8b96784157be",
   "metadata": {},
   "outputs": [],
   "source": [
    "X_train_iris = train_df_iris[['sepal length (cm)','sepal width (cm)','petal length (cm)','petal width (cm)']]\n",
    "y_train_iris = train_df_iris['label']\n",
    "X_test_iris = test_df_iris[['sepal length (cm)','sepal width (cm)','petal length (cm)','petal width (cm)']]\n",
    "y_test_iris = test_df_iris['label']"
   ]
  },
  {
   "cell_type": "code",
   "execution_count": 6,
   "id": "6937e8f3-c09b-40df-b5c1-d318c9eecc86",
   "metadata": {},
   "outputs": [
    {
     "name": "stdout",
     "output_type": "stream",
     "text": [
      "{np.int64(0): np.str_('setosa'), np.int64(1): np.str_('versicolor'), np.int64(2): np.str_('virginica')}\n"
     ]
    }
   ],
   "source": [
    "iris_dict = dict(zip(df_iris['label'].unique(), df_iris['label_names'].unique()))\n",
    "print (iris_dict)"
   ]
  },
  {
   "cell_type": "code",
   "execution_count": 7,
   "id": "5ce1f0fa-b8a4-4b4c-ab98-7c5f3f6ac524",
   "metadata": {},
   "outputs": [
    {
     "name": "stdout",
     "output_type": "stream",
     "text": [
      "X_train_scaled_iris[0]=\n"
     ]
    },
    {
     "data": {
      "text/plain": [
       "sepal length (cm)    0.166667\n",
       "sepal width (cm)     0.458333\n",
       "petal length (cm)    0.084746\n",
       "petal width (cm)     0.041667\n",
       "Name: 34, dtype: float64"
      ]
     },
     "execution_count": 7,
     "metadata": {},
     "output_type": "execute_result"
    }
   ],
   "source": [
    "scaler = Scaler()\n",
    "X_train_scaled_iris = scaler.fit_transform(X_train_iris)\n",
    "X_test_scaled_iris = scaler.transform(X_test_iris)\n",
    "print ('X_train_scaled_iris[0]=')\n",
    "X_train_scaled_iris.iloc[0]"
   ]
  },
  {
   "cell_type": "code",
   "execution_count": 8,
   "id": "2dc48007-1d9a-40f0-9a0d-d36d1aa9e6e7",
   "metadata": {},
   "outputs": [],
   "source": [
    "def set_neighbors(X_train_scaled_iris, y_train_iris):\n",
    "    dict_k_s_b = {}\n",
    "    for i in range(1,11):\n",
    "        n_neighbors = i\n",
    "        clf = KNN_classifier(k_number=n_neighbors)\n",
    "        clf.fit(X_train_scaled_iris, y_train_iris)\n",
    "        s_b_train = clf.score(X_train_scaled_iris,y_train_iris) \n",
    "        s_b_test =clf.score(X_test_scaled_iris,y_test_iris)\n",
    "        dict_k_s_b[i] = float(s_b_test)\n",
    "        print (f'Count neighbors = {n_neighbors}')\n",
    "        print ('score train = {:.3f}'.format(clf.score(X_train_scaled_iris,y_train_iris)))\n",
    "        print ('score test = {:.3f}'.format(clf.score(X_test_scaled_iris,y_test_iris)),'\\n')\n",
    "        \n",
    "    return dict_k_s_b "
   ]
  },
  {
   "cell_type": "code",
   "execution_count": 9,
   "id": "f5839664-c82c-4185-80d6-fa4433b3eadb",
   "metadata": {},
   "outputs": [
    {
     "name": "stdout",
     "output_type": "stream",
     "text": [
      "Count neighbors = 1\n",
      "score train = 1.000\n",
      "score test = 0.974 \n",
      "\n",
      "Count neighbors = 2\n",
      "score train = 0.973\n",
      "score test = 0.974 \n",
      "\n",
      "Count neighbors = 3\n",
      "score train = 0.955\n",
      "score test = 0.974 \n",
      "\n",
      "Count neighbors = 4\n",
      "score train = 0.955\n",
      "score test = 0.974 \n",
      "\n",
      "Count neighbors = 5\n",
      "score train = 0.955\n",
      "score test = 0.974 \n",
      "\n",
      "Count neighbors = 6\n",
      "score train = 0.964\n",
      "score test = 0.974 \n",
      "\n",
      "Count neighbors = 7\n",
      "score train = 0.964\n",
      "score test = 0.974 \n",
      "\n",
      "Count neighbors = 8\n",
      "score train = 0.973\n",
      "score test = 0.947 \n",
      "\n",
      "Count neighbors = 9\n",
      "score train = 0.964\n",
      "score test = 0.974 \n",
      "\n",
      "Count neighbors = 10\n",
      "score train = 0.964\n",
      "score test = 0.974 \n",
      "\n"
     ]
    },
    {
     "data": {
      "text/plain": [
       "{1: 0.9736842105263158,\n",
       " 2: 0.9736842105263158,\n",
       " 3: 0.9736842105263158,\n",
       " 4: 0.9736842105263158,\n",
       " 5: 0.9736842105263158,\n",
       " 6: 0.9736842105263158,\n",
       " 7: 0.9736842105263158,\n",
       " 8: 0.9473684210526315,\n",
       " 9: 0.9736842105263158,\n",
       " 10: 0.9736842105263158}"
      ]
     },
     "execution_count": 9,
     "metadata": {},
     "output_type": "execute_result"
    }
   ],
   "source": [
    "dict_k_s_b = set_neighbors(X_train_scaled_iris, y_train_iris)\n",
    "dict_k_s_b"
   ]
  },
  {
   "cell_type": "code",
   "execution_count": 10,
   "id": "6a186bce-e372-4543-846a-a3ea0b2ea2ab",
   "metadata": {},
   "outputs": [],
   "source": [
    "max_value = max(dict_k_s_b.values())\n",
    "keys_with_max_value = [k for k, v in dict_k_s_b.items() if v == max_value]\n",
    "min_key_value  = min(keys_with_max_value)"
   ]
  },
  {
   "cell_type": "code",
   "execution_count": 11,
   "id": "10364211-b99a-413a-8650-395e9739a52b",
   "metadata": {},
   "outputs": [
    {
     "name": "stdout",
     "output_type": "stream",
     "text": [
      "The best k = 1 , score = 0.9736842105263158\n"
     ]
    }
   ],
   "source": [
    "k_best = min_key_value \n",
    "score_best = max_value  \n",
    "print ('The best k = {} , score = {}'.format(k_best,score_best ))"
   ]
  },
  {
   "cell_type": "code",
   "execution_count": null,
   "id": "7451c1ac-2e42-426f-aa41-3091c39b0523",
   "metadata": {},
   "outputs": [],
   "source": []
  }
 ],
 "metadata": {
  "kernelspec": {
   "display_name": "Python 3 (ipykernel)",
   "language": "python",
   "name": "python3"
  },
  "language_info": {
   "codemirror_mode": {
    "name": "ipython",
    "version": 3
   },
   "file_extension": ".py",
   "mimetype": "text/x-python",
   "name": "python",
   "nbconvert_exporter": "python",
   "pygments_lexer": "ipython3",
   "version": "3.13.1"
  }
 },
 "nbformat": 4,
 "nbformat_minor": 5
}
